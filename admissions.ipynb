{
  "nbformat": 4,
  "nbformat_minor": 0,
  "metadata": {
    "language_info": {
      "codemirror_mode": {
        "name": "ipython",
        "version": 3
      },
      "file_extension": ".py",
      "mimetype": "text/x-python",
      "name": "python",
      "nbconvert_exporter": "python",
      "pygments_lexer": "ipython3",
      "version": 3
    },
    "orig_nbformat": 2,
    "kernelspec": {
      "name": "python_defaultSpec_1596168309811",
      "display_name": "Python 3.7.6 64-bit ('base': conda)"
    },
    "colab": {
      "name": "admissions.ipynb",
      "provenance": [],
      "collapsed_sections": []
    },
    "accelerator": "GPU"
  },
  "cells": [
    {
      "cell_type": "code",
      "metadata": {
        "id": "bsn75fDG79Dn",
        "colab_type": "code",
        "colab": {}
      },
      "source": [
        "import pandas as pd \n",
        "import matplotlib.pyplot as plt \n",
        "import numpy as np \n",
        "import seaborn as sns "
      ],
      "execution_count": 35,
      "outputs": []
    },
    {
      "cell_type": "code",
      "metadata": {
        "id": "jxiJSp7Z79Dw",
        "colab_type": "code",
        "colab": {}
      },
      "source": [
        "url = 'https://raw.githubusercontent.com/Keenal/Graduate-Admission/master/Admission_Predict_Ver1.1.csv'\n",
        "df = pd.read_csv(url)"
      ],
      "execution_count": 36,
      "outputs": []
    },
    {
      "cell_type": "code",
      "metadata": {
        "id": "pStjp3eG79D2",
        "colab_type": "code",
        "colab": {
          "base_uri": "https://localhost:8080/",
          "height": 419
        },
        "outputId": "22671726-0dae-4d38-af09-1d7d99600826"
      },
      "source": [
        "df"
      ],
      "execution_count": 37,
      "outputs": [
        {
          "output_type": "execute_result",
          "data": {
            "text/html": [
              "<div>\n",
              "<style scoped>\n",
              "    .dataframe tbody tr th:only-of-type {\n",
              "        vertical-align: middle;\n",
              "    }\n",
              "\n",
              "    .dataframe tbody tr th {\n",
              "        vertical-align: top;\n",
              "    }\n",
              "\n",
              "    .dataframe thead th {\n",
              "        text-align: right;\n",
              "    }\n",
              "</style>\n",
              "<table border=\"1\" class=\"dataframe\">\n",
              "  <thead>\n",
              "    <tr style=\"text-align: right;\">\n",
              "      <th></th>\n",
              "      <th>Serial No.</th>\n",
              "      <th>GRE Score</th>\n",
              "      <th>TOEFL Score</th>\n",
              "      <th>University Rating</th>\n",
              "      <th>SOP</th>\n",
              "      <th>LOR</th>\n",
              "      <th>CGPA</th>\n",
              "      <th>Research</th>\n",
              "      <th>Chance of Admit</th>\n",
              "    </tr>\n",
              "  </thead>\n",
              "  <tbody>\n",
              "    <tr>\n",
              "      <th>0</th>\n",
              "      <td>1</td>\n",
              "      <td>337</td>\n",
              "      <td>118</td>\n",
              "      <td>4</td>\n",
              "      <td>4.5</td>\n",
              "      <td>4.5</td>\n",
              "      <td>9.65</td>\n",
              "      <td>1</td>\n",
              "      <td>0.92</td>\n",
              "    </tr>\n",
              "    <tr>\n",
              "      <th>1</th>\n",
              "      <td>2</td>\n",
              "      <td>324</td>\n",
              "      <td>107</td>\n",
              "      <td>4</td>\n",
              "      <td>4.0</td>\n",
              "      <td>4.5</td>\n",
              "      <td>8.87</td>\n",
              "      <td>1</td>\n",
              "      <td>0.76</td>\n",
              "    </tr>\n",
              "    <tr>\n",
              "      <th>2</th>\n",
              "      <td>3</td>\n",
              "      <td>316</td>\n",
              "      <td>104</td>\n",
              "      <td>3</td>\n",
              "      <td>3.0</td>\n",
              "      <td>3.5</td>\n",
              "      <td>8.00</td>\n",
              "      <td>1</td>\n",
              "      <td>0.72</td>\n",
              "    </tr>\n",
              "    <tr>\n",
              "      <th>3</th>\n",
              "      <td>4</td>\n",
              "      <td>322</td>\n",
              "      <td>110</td>\n",
              "      <td>3</td>\n",
              "      <td>3.5</td>\n",
              "      <td>2.5</td>\n",
              "      <td>8.67</td>\n",
              "      <td>1</td>\n",
              "      <td>0.80</td>\n",
              "    </tr>\n",
              "    <tr>\n",
              "      <th>4</th>\n",
              "      <td>5</td>\n",
              "      <td>314</td>\n",
              "      <td>103</td>\n",
              "      <td>2</td>\n",
              "      <td>2.0</td>\n",
              "      <td>3.0</td>\n",
              "      <td>8.21</td>\n",
              "      <td>0</td>\n",
              "      <td>0.65</td>\n",
              "    </tr>\n",
              "    <tr>\n",
              "      <th>...</th>\n",
              "      <td>...</td>\n",
              "      <td>...</td>\n",
              "      <td>...</td>\n",
              "      <td>...</td>\n",
              "      <td>...</td>\n",
              "      <td>...</td>\n",
              "      <td>...</td>\n",
              "      <td>...</td>\n",
              "      <td>...</td>\n",
              "    </tr>\n",
              "    <tr>\n",
              "      <th>495</th>\n",
              "      <td>496</td>\n",
              "      <td>332</td>\n",
              "      <td>108</td>\n",
              "      <td>5</td>\n",
              "      <td>4.5</td>\n",
              "      <td>4.0</td>\n",
              "      <td>9.02</td>\n",
              "      <td>1</td>\n",
              "      <td>0.87</td>\n",
              "    </tr>\n",
              "    <tr>\n",
              "      <th>496</th>\n",
              "      <td>497</td>\n",
              "      <td>337</td>\n",
              "      <td>117</td>\n",
              "      <td>5</td>\n",
              "      <td>5.0</td>\n",
              "      <td>5.0</td>\n",
              "      <td>9.87</td>\n",
              "      <td>1</td>\n",
              "      <td>0.96</td>\n",
              "    </tr>\n",
              "    <tr>\n",
              "      <th>497</th>\n",
              "      <td>498</td>\n",
              "      <td>330</td>\n",
              "      <td>120</td>\n",
              "      <td>5</td>\n",
              "      <td>4.5</td>\n",
              "      <td>5.0</td>\n",
              "      <td>9.56</td>\n",
              "      <td>1</td>\n",
              "      <td>0.93</td>\n",
              "    </tr>\n",
              "    <tr>\n",
              "      <th>498</th>\n",
              "      <td>499</td>\n",
              "      <td>312</td>\n",
              "      <td>103</td>\n",
              "      <td>4</td>\n",
              "      <td>4.0</td>\n",
              "      <td>5.0</td>\n",
              "      <td>8.43</td>\n",
              "      <td>0</td>\n",
              "      <td>0.73</td>\n",
              "    </tr>\n",
              "    <tr>\n",
              "      <th>499</th>\n",
              "      <td>500</td>\n",
              "      <td>327</td>\n",
              "      <td>113</td>\n",
              "      <td>4</td>\n",
              "      <td>4.5</td>\n",
              "      <td>4.5</td>\n",
              "      <td>9.04</td>\n",
              "      <td>0</td>\n",
              "      <td>0.84</td>\n",
              "    </tr>\n",
              "  </tbody>\n",
              "</table>\n",
              "<p>500 rows × 9 columns</p>\n",
              "</div>"
            ],
            "text/plain": [
              "     Serial No.  GRE Score  TOEFL Score  ...  CGPA  Research  Chance of Admit \n",
              "0             1        337          118  ...  9.65         1              0.92\n",
              "1             2        324          107  ...  8.87         1              0.76\n",
              "2             3        316          104  ...  8.00         1              0.72\n",
              "3             4        322          110  ...  8.67         1              0.80\n",
              "4             5        314          103  ...  8.21         0              0.65\n",
              "..          ...        ...          ...  ...   ...       ...               ...\n",
              "495         496        332          108  ...  9.02         1              0.87\n",
              "496         497        337          117  ...  9.87         1              0.96\n",
              "497         498        330          120  ...  9.56         1              0.93\n",
              "498         499        312          103  ...  8.43         0              0.73\n",
              "499         500        327          113  ...  9.04         0              0.84\n",
              "\n",
              "[500 rows x 9 columns]"
            ]
          },
          "metadata": {
            "tags": []
          },
          "execution_count": 37
        }
      ]
    },
    {
      "cell_type": "code",
      "metadata": {
        "id": "ZTMuoCt-79D7",
        "colab_type": "code",
        "colab": {
          "base_uri": "https://localhost:8080/",
          "height": 187
        },
        "outputId": "4997078f-6519-4013-abdd-eca62176c509"
      },
      "source": [
        "df.isnull().sum()"
      ],
      "execution_count": 38,
      "outputs": [
        {
          "output_type": "execute_result",
          "data": {
            "text/plain": [
              "Serial No.           0\n",
              "GRE Score            0\n",
              "TOEFL Score          0\n",
              "University Rating    0\n",
              "SOP                  0\n",
              "LOR                  0\n",
              "CGPA                 0\n",
              "Research             0\n",
              "Chance of Admit      0\n",
              "dtype: int64"
            ]
          },
          "metadata": {
            "tags": []
          },
          "execution_count": 38
        }
      ]
    },
    {
      "cell_type": "code",
      "metadata": {
        "id": "UGGh5eSY79EA",
        "colab_type": "code",
        "colab": {
          "base_uri": "https://localhost:8080/",
          "height": 328
        },
        "outputId": "365f7cf6-6483-47da-aab1-5463e3ac463d"
      },
      "source": [
        "df.describe().transpose()"
      ],
      "execution_count": 39,
      "outputs": [
        {
          "output_type": "execute_result",
          "data": {
            "text/html": [
              "<div>\n",
              "<style scoped>\n",
              "    .dataframe tbody tr th:only-of-type {\n",
              "        vertical-align: middle;\n",
              "    }\n",
              "\n",
              "    .dataframe tbody tr th {\n",
              "        vertical-align: top;\n",
              "    }\n",
              "\n",
              "    .dataframe thead th {\n",
              "        text-align: right;\n",
              "    }\n",
              "</style>\n",
              "<table border=\"1\" class=\"dataframe\">\n",
              "  <thead>\n",
              "    <tr style=\"text-align: right;\">\n",
              "      <th></th>\n",
              "      <th>count</th>\n",
              "      <th>mean</th>\n",
              "      <th>std</th>\n",
              "      <th>min</th>\n",
              "      <th>25%</th>\n",
              "      <th>50%</th>\n",
              "      <th>75%</th>\n",
              "      <th>max</th>\n",
              "    </tr>\n",
              "  </thead>\n",
              "  <tbody>\n",
              "    <tr>\n",
              "      <th>Serial No.</th>\n",
              "      <td>500.0</td>\n",
              "      <td>250.50000</td>\n",
              "      <td>144.481833</td>\n",
              "      <td>1.00</td>\n",
              "      <td>125.7500</td>\n",
              "      <td>250.50</td>\n",
              "      <td>375.25</td>\n",
              "      <td>500.00</td>\n",
              "    </tr>\n",
              "    <tr>\n",
              "      <th>GRE Score</th>\n",
              "      <td>500.0</td>\n",
              "      <td>316.47200</td>\n",
              "      <td>11.295148</td>\n",
              "      <td>290.00</td>\n",
              "      <td>308.0000</td>\n",
              "      <td>317.00</td>\n",
              "      <td>325.00</td>\n",
              "      <td>340.00</td>\n",
              "    </tr>\n",
              "    <tr>\n",
              "      <th>TOEFL Score</th>\n",
              "      <td>500.0</td>\n",
              "      <td>107.19200</td>\n",
              "      <td>6.081868</td>\n",
              "      <td>92.00</td>\n",
              "      <td>103.0000</td>\n",
              "      <td>107.00</td>\n",
              "      <td>112.00</td>\n",
              "      <td>120.00</td>\n",
              "    </tr>\n",
              "    <tr>\n",
              "      <th>University Rating</th>\n",
              "      <td>500.0</td>\n",
              "      <td>3.11400</td>\n",
              "      <td>1.143512</td>\n",
              "      <td>1.00</td>\n",
              "      <td>2.0000</td>\n",
              "      <td>3.00</td>\n",
              "      <td>4.00</td>\n",
              "      <td>5.00</td>\n",
              "    </tr>\n",
              "    <tr>\n",
              "      <th>SOP</th>\n",
              "      <td>500.0</td>\n",
              "      <td>3.37400</td>\n",
              "      <td>0.991004</td>\n",
              "      <td>1.00</td>\n",
              "      <td>2.5000</td>\n",
              "      <td>3.50</td>\n",
              "      <td>4.00</td>\n",
              "      <td>5.00</td>\n",
              "    </tr>\n",
              "    <tr>\n",
              "      <th>LOR</th>\n",
              "      <td>500.0</td>\n",
              "      <td>3.48400</td>\n",
              "      <td>0.925450</td>\n",
              "      <td>1.00</td>\n",
              "      <td>3.0000</td>\n",
              "      <td>3.50</td>\n",
              "      <td>4.00</td>\n",
              "      <td>5.00</td>\n",
              "    </tr>\n",
              "    <tr>\n",
              "      <th>CGPA</th>\n",
              "      <td>500.0</td>\n",
              "      <td>8.57644</td>\n",
              "      <td>0.604813</td>\n",
              "      <td>6.80</td>\n",
              "      <td>8.1275</td>\n",
              "      <td>8.56</td>\n",
              "      <td>9.04</td>\n",
              "      <td>9.92</td>\n",
              "    </tr>\n",
              "    <tr>\n",
              "      <th>Research</th>\n",
              "      <td>500.0</td>\n",
              "      <td>0.56000</td>\n",
              "      <td>0.496884</td>\n",
              "      <td>0.00</td>\n",
              "      <td>0.0000</td>\n",
              "      <td>1.00</td>\n",
              "      <td>1.00</td>\n",
              "      <td>1.00</td>\n",
              "    </tr>\n",
              "    <tr>\n",
              "      <th>Chance of Admit</th>\n",
              "      <td>500.0</td>\n",
              "      <td>0.72174</td>\n",
              "      <td>0.141140</td>\n",
              "      <td>0.34</td>\n",
              "      <td>0.6300</td>\n",
              "      <td>0.72</td>\n",
              "      <td>0.82</td>\n",
              "      <td>0.97</td>\n",
              "    </tr>\n",
              "  </tbody>\n",
              "</table>\n",
              "</div>"
            ],
            "text/plain": [
              "                   count       mean         std  ...     50%     75%     max\n",
              "Serial No.         500.0  250.50000  144.481833  ...  250.50  375.25  500.00\n",
              "GRE Score          500.0  316.47200   11.295148  ...  317.00  325.00  340.00\n",
              "TOEFL Score        500.0  107.19200    6.081868  ...  107.00  112.00  120.00\n",
              "University Rating  500.0    3.11400    1.143512  ...    3.00    4.00    5.00\n",
              "SOP                500.0    3.37400    0.991004  ...    3.50    4.00    5.00\n",
              "LOR                500.0    3.48400    0.925450  ...    3.50    4.00    5.00\n",
              "CGPA               500.0    8.57644    0.604813  ...    8.56    9.04    9.92\n",
              "Research           500.0    0.56000    0.496884  ...    1.00    1.00    1.00\n",
              "Chance of Admit    500.0    0.72174    0.141140  ...    0.72    0.82    0.97\n",
              "\n",
              "[9 rows x 8 columns]"
            ]
          },
          "metadata": {
            "tags": []
          },
          "execution_count": 39
        }
      ]
    },
    {
      "cell_type": "code",
      "metadata": {
        "id": "JKmId61a79EE",
        "colab_type": "code",
        "colab": {
          "base_uri": "https://localhost:8080/",
          "height": 405
        },
        "outputId": "13a8e8ca-a04b-4070-97ff-521c74e5b040"
      },
      "source": [
        "plt.figure(figsize=(10,6))\n",
        "sns.distplot(df['Chance of Admit '])"
      ],
      "execution_count": 40,
      "outputs": [
        {
          "output_type": "execute_result",
          "data": {
            "text/plain": [
              "<matplotlib.axes._subplots.AxesSubplot at 0x7fca3d599160>"
            ]
          },
          "metadata": {
            "tags": []
          },
          "execution_count": 40
        },
        {
          "output_type": "display_data",
          "data": {
            "image/png": "[encoded data removed]",
            "text/plain": [
              "<Figure size 720x432 with 1 Axes>"
            ]
          },
          "metadata": {
            "tags": [],
            "needs_background": "light"
          }
        }
      ]
    },
    {
      "cell_type": "code",
      "metadata": {
        "id": "SaHF2xZ479EH",
        "colab_type": "code",
        "colab": {
          "base_uri": "https://localhost:8080/",
          "height": 187
        },
        "outputId": "c56fb36d-d3df-4f5c-da31-392e2964c20c"
      },
      "source": [
        "df.corr()['Chance of Admit '].sort_values()"
      ],
      "execution_count": 41,
      "outputs": [
        {
          "output_type": "execute_result",
          "data": {
            "text/plain": [
              "Serial No.           0.008505\n",
              "Research             0.545871\n",
              "LOR                  0.645365\n",
              "SOP                  0.684137\n",
              "University Rating    0.690132\n",
              "TOEFL Score          0.792228\n",
              "GRE Score            0.810351\n",
              "CGPA                 0.882413\n",
              "Chance of Admit      1.000000\n",
              "Name: Chance of Admit , dtype: float64"
            ]
          },
          "metadata": {
            "tags": []
          },
          "execution_count": 41
        }
      ]
    },
    {
      "cell_type": "code",
      "metadata": {
        "id": "x28A_Rrj79EL",
        "colab_type": "code",
        "colab": {
          "base_uri": "https://localhost:8080/",
          "height": 296
        },
        "outputId": "8fe913c6-14a4-47c4-a6be-ae7c0a5308d9"
      },
      "source": [
        "sns.scatterplot(x='Chance of Admit ', y='CGPA', data=df)"
      ],
      "execution_count": 42,
      "outputs": [
        {
          "output_type": "execute_result",
          "data": {
            "text/plain": [
              "<matplotlib.axes._subplots.AxesSubplot at 0x7fca3d52fb38>"
            ]
          },
          "metadata": {
            "tags": []
          },
          "execution_count": 42
        },
        {
          "output_type": "display_data",
          "data": {
            "image/png": "[encoded data removed]",
            "text/plain": [
              "<Figure size 432x288 with 1 Axes>"
            ]
          },
          "metadata": {
            "tags": [],
            "needs_background": "light"
          }
        }
      ]
    },
    {
      "cell_type": "code",
      "metadata": {
        "id": "yjFYXsc479EQ",
        "colab_type": "code",
        "colab": {
          "base_uri": "https://localhost:8080/",
          "height": 68
        },
        "outputId": "a3c1a3aa-9adb-4faa-dc05-95e1c7f359af"
      },
      "source": [
        "df.columns"
      ],
      "execution_count": 43,
      "outputs": [
        {
          "output_type": "execute_result",
          "data": {
            "text/plain": [
              "Index(['Serial No.', 'GRE Score', 'TOEFL Score', 'University Rating', 'SOP',\n",
              "       'LOR ', 'CGPA', 'Research', 'Chance of Admit '],\n",
              "      dtype='object')"
            ]
          },
          "metadata": {
            "tags": []
          },
          "execution_count": 43
        }
      ]
    },
    {
      "cell_type": "code",
      "metadata": {
        "id": "KlJ1S6RT79ES",
        "colab_type": "code",
        "colab": {
          "base_uri": "https://localhost:8080/",
          "height": 419
        },
        "outputId": "7192cd18-7492-4025-e315-e2d41c68eb24"
      },
      "source": [
        "df = df.drop('Serial No.', axis=1)\n",
        "df"
      ],
      "execution_count": 44,
      "outputs": [
        {
          "output_type": "execute_result",
          "data": {
            "text/html": [
              "<div>\n",
              "<style scoped>\n",
              "    .dataframe tbody tr th:only-of-type {\n",
              "        vertical-align: middle;\n",
              "    }\n",
              "\n",
              "    .dataframe tbody tr th {\n",
              "        vertical-align: top;\n",
              "    }\n",
              "\n",
              "    .dataframe thead th {\n",
              "        text-align: right;\n",
              "    }\n",
              "</style>\n",
              "<table border=\"1\" class=\"dataframe\">\n",
              "  <thead>\n",
              "    <tr style=\"text-align: right;\">\n",
              "      <th></th>\n",
              "      <th>GRE Score</th>\n",
              "      <th>TOEFL Score</th>\n",
              "      <th>University Rating</th>\n",
              "      <th>SOP</th>\n",
              "      <th>LOR</th>\n",
              "      <th>CGPA</th>\n",
              "      <th>Research</th>\n",
              "      <th>Chance of Admit</th>\n",
              "    </tr>\n",
              "  </thead>\n",
              "  <tbody>\n",
              "    <tr>\n",
              "      <th>0</th>\n",
              "      <td>337</td>\n",
              "      <td>118</td>\n",
              "      <td>4</td>\n",
              "      <td>4.5</td>\n",
              "      <td>4.5</td>\n",
              "      <td>9.65</td>\n",
              "      <td>1</td>\n",
              "      <td>0.92</td>\n",
              "    </tr>\n",
              "    <tr>\n",
              "      <th>1</th>\n",
              "      <td>324</td>\n",
              "      <td>107</td>\n",
              "      <td>4</td>\n",
              "      <td>4.0</td>\n",
              "      <td>4.5</td>\n",
              "      <td>8.87</td>\n",
              "      <td>1</td>\n",
              "      <td>0.76</td>\n",
              "    </tr>\n",
              "    <tr>\n",
              "      <th>2</th>\n",
              "      <td>316</td>\n",
              "      <td>104</td>\n",
              "      <td>3</td>\n",
              "      <td>3.0</td>\n",
              "      <td>3.5</td>\n",
              "      <td>8.00</td>\n",
              "      <td>1</td>\n",
              "      <td>0.72</td>\n",
              "    </tr>\n",
              "    <tr>\n",
              "      <th>3</th>\n",
              "      <td>322</td>\n",
              "      <td>110</td>\n",
              "      <td>3</td>\n",
              "      <td>3.5</td>\n",
              "      <td>2.5</td>\n",
              "      <td>8.67</td>\n",
              "      <td>1</td>\n",
              "      <td>0.80</td>\n",
              "    </tr>\n",
              "    <tr>\n",
              "      <th>4</th>\n",
              "      <td>314</td>\n",
              "      <td>103</td>\n",
              "      <td>2</td>\n",
              "      <td>2.0</td>\n",
              "      <td>3.0</td>\n",
              "      <td>8.21</td>\n",
              "      <td>0</td>\n",
              "      <td>0.65</td>\n",
              "    </tr>\n",
              "    <tr>\n",
              "      <th>...</th>\n",
              "      <td>...</td>\n",
              "      <td>...</td>\n",
              "      <td>...</td>\n",
              "      <td>...</td>\n",
              "      <td>...</td>\n",
              "      <td>...</td>\n",
              "      <td>...</td>\n",
              "      <td>...</td>\n",
              "    </tr>\n",
              "    <tr>\n",
              "      <th>495</th>\n",
              "      <td>332</td>\n",
              "      <td>108</td>\n",
              "      <td>5</td>\n",
              "      <td>4.5</td>\n",
              "      <td>4.0</td>\n",
              "      <td>9.02</td>\n",
              "      <td>1</td>\n",
              "      <td>0.87</td>\n",
              "    </tr>\n",
              "    <tr>\n",
              "      <th>496</th>\n",
              "      <td>337</td>\n",
              "      <td>117</td>\n",
              "      <td>5</td>\n",
              "      <td>5.0</td>\n",
              "      <td>5.0</td>\n",
              "      <td>9.87</td>\n",
              "      <td>1</td>\n",
              "      <td>0.96</td>\n",
              "    </tr>\n",
              "    <tr>\n",
              "      <th>497</th>\n",
              "      <td>330</td>\n",
              "      <td>120</td>\n",
              "      <td>5</td>\n",
              "      <td>4.5</td>\n",
              "      <td>5.0</td>\n",
              "      <td>9.56</td>\n",
              "      <td>1</td>\n",
              "      <td>0.93</td>\n",
              "    </tr>\n",
              "    <tr>\n",
              "      <th>498</th>\n",
              "      <td>312</td>\n",
              "      <td>103</td>\n",
              "      <td>4</td>\n",
              "      <td>4.0</td>\n",
              "      <td>5.0</td>\n",
              "      <td>8.43</td>\n",
              "      <td>0</td>\n",
              "      <td>0.73</td>\n",
              "    </tr>\n",
              "    <tr>\n",
              "      <th>499</th>\n",
              "      <td>327</td>\n",
              "      <td>113</td>\n",
              "      <td>4</td>\n",
              "      <td>4.5</td>\n",
              "      <td>4.5</td>\n",
              "      <td>9.04</td>\n",
              "      <td>0</td>\n",
              "      <td>0.84</td>\n",
              "    </tr>\n",
              "  </tbody>\n",
              "</table>\n",
              "<p>500 rows × 8 columns</p>\n",
              "</div>"
            ],
            "text/plain": [
              "     GRE Score  TOEFL Score  ...  Research  Chance of Admit \n",
              "0          337          118  ...         1              0.92\n",
              "1          324          107  ...         1              0.76\n",
              "2          316          104  ...         1              0.72\n",
              "3          322          110  ...         1              0.80\n",
              "4          314          103  ...         0              0.65\n",
              "..         ...          ...  ...       ...               ...\n",
              "495        332          108  ...         1              0.87\n",
              "496        337          117  ...         1              0.96\n",
              "497        330          120  ...         1              0.93\n",
              "498        312          103  ...         0              0.73\n",
              "499        327          113  ...         0              0.84\n",
              "\n",
              "[500 rows x 8 columns]"
            ]
          },
          "metadata": {
            "tags": []
          },
          "execution_count": 44
        }
      ]
    },
    {
      "cell_type": "code",
      "metadata": {
        "id": "xGg4tlFd79EX",
        "colab_type": "code",
        "colab": {}
      },
      "source": [
        "X = df.drop('Chance of Admit ', axis=1).values\n",
        "y = df['Chance of Admit '].values"
      ],
      "execution_count": 45,
      "outputs": []
    },
    {
      "cell_type": "code",
      "metadata": {
        "id": "ipcZbMwI79Ec",
        "colab_type": "code",
        "colab": {}
      },
      "source": [
        "from sklearn.model_selection import train_test_split"
      ],
      "execution_count": 46,
      "outputs": []
    },
    {
      "cell_type": "code",
      "metadata": {
        "id": "ACy6IBD879Ei",
        "colab_type": "code",
        "colab": {}
      },
      "source": [
        "X_train, X_test, y_train, y_test = train_test_split(X, y, test_size=0.3, random_state=101)"
      ],
      "execution_count": 47,
      "outputs": []
    },
    {
      "cell_type": "code",
      "metadata": {
        "id": "gU14hQzv79Em",
        "colab_type": "code",
        "colab": {}
      },
      "source": [
        "from sklearn.preprocessing import MinMaxScaler #minmaxscaler will scale the feature to be between 0 and 1."
      ],
      "execution_count": 48,
      "outputs": []
    },
    {
      "cell_type": "code",
      "metadata": {
        "id": "zgLnkpvn79Eq",
        "colab_type": "code",
        "colab": {}
      },
      "source": [
        "scaler = MinMaxScaler()"
      ],
      "execution_count": 49,
      "outputs": []
    },
    {
      "cell_type": "code",
      "metadata": {
        "id": "Z1Hh-MDD79Et",
        "colab_type": "code",
        "colab": {}
      },
      "source": [
        "X_train = scaler.fit_transform(X_train) #fit_transform will transform and fit both into one"
      ],
      "execution_count": 50,
      "outputs": []
    },
    {
      "cell_type": "code",
      "metadata": {
        "id": "RgRTriBW79Ex",
        "colab_type": "code",
        "colab": {}
      },
      "source": [
        "X_test = scaler.transform(X_test) #we only transform and not fit because we don't want to assume prior info about our testset"
      ],
      "execution_count": 51,
      "outputs": []
    },
    {
      "cell_type": "code",
      "metadata": {
        "id": "JbUTGVyR79Ez",
        "colab_type": "code",
        "colab": {}
      },
      "source": [
        "from tensorflow.keras.models import Sequential\n",
        "from tensorflow.keras.layers import Dense"
      ],
      "execution_count": 52,
      "outputs": []
    },
    {
      "cell_type": "code",
      "metadata": {
        "id": "zIE3vPFm79E4",
        "colab_type": "code",
        "colab": {
          "base_uri": "https://localhost:8080/",
          "height": 34
        },
        "outputId": "cf452b02-a6bb-492a-f592-c3a4f40d8760"
      },
      "source": [
        "X_train.shape"
      ],
      "execution_count": 53,
      "outputs": [
        {
          "output_type": "execute_result",
          "data": {
            "text/plain": [
              "(350, 7)"
            ]
          },
          "metadata": {
            "tags": []
          },
          "execution_count": 53
        }
      ]
    },
    {
      "cell_type": "code",
      "metadata": {
        "id": "il9bb6yu8S9H",
        "colab_type": "code",
        "colab": {}
      },
      "source": [
        "model = Sequential()\n",
        "\n",
        "model.add(Dense(7, activation='relu'))\n",
        "model.add(Dense(7, activation='relu'))\n",
        "model.add(Dense(7, activation='relu'))\n",
        "model.add(Dense(7, activation='relu'))\n",
        "\n",
        "model.add(Dense(1))\n",
        "\n",
        "model.compile(optimizer='adam', loss='mse')"
      ],
      "execution_count": 54,
      "outputs": []
    },
    {
      "cell_type": "code",
      "metadata": {
        "id": "_i-8gesP99Gw",
        "colab_type": "code",
        "colab": {
          "base_uri": "https://localhost:8080/",
          "height": 1000
        },
        "outputId": "b70e92bd-db1d-4cad-e37f-536f91e5ca3c"
      },
      "source": [
        "model.fit(x=X_train, y=y_train, validation_data=(X_test, y_test), batch_size=128, epochs=400)"
      ],
      "execution_count": 55,
      "outputs": [
        {
          "output_type": "stream",
          "text": [
            "Epoch 1/400\n",
            "3/3 [==============================] - 0s 52ms/step - loss: 0.6037 - val_loss: 0.5822\n",
            "Epoch 2/400\n",
            "3/3 [==============================] - 0s 11ms/step - loss: 0.5640 - val_loss: 0.5496\n",
            "Epoch 3/400\n",
            "3/3 [==============================] - 0s 11ms/step - loss: 0.5352 - val_loss: 0.5279\n",
            "Epoch 4/400\n",
            "3/3 [==============================] - 0s 10ms/step - loss: 0.5168 - val_loss: 0.5132\n",
            "Epoch 5/400\n",
            "3/3 [==============================] - 0s 10ms/step - loss: 0.5028 - val_loss: 0.5013\n",
            "Epoch 6/400\n",
            "3/3 [==============================] - 0s 11ms/step - loss: 0.4914 - val_loss: 0.4906\n",
            "Epoch 7/400\n",
            "3/3 [==============================] - 0s 11ms/step - loss: 0.4809 - val_loss: 0.4798\n",
            "Epoch 8/400\n",
            "3/3 [==============================] - 0s 10ms/step - loss: 0.4704 - val_loss: 0.4690\n",
            "Epoch 9/400\n",
            "3/3 [==============================] - 0s 13ms/step - loss: 0.4598 - val_loss: 0.4582\n",
            "Epoch 10/400\n",
            "3/3 [==============================] - 0s 11ms/step - loss: 0.4490 - val_loss: 0.4471\n",
            "Epoch 11/400\n",
            "3/3 [==============================] - 0s 10ms/step - loss: 0.4379 - val_loss: 0.4359\n",
            "Epoch 12/400\n",
            "3/3 [==============================] - 0s 10ms/step - loss: 0.4268 - val_loss: 0.4246\n",
            "Epoch 13/400\n",
            "3/3 [==============================] - 0s 11ms/step - loss: 0.4155 - val_loss: 0.4130\n",
            "Epoch 14/400\n",
            "3/3 [==============================] - 0s 11ms/step - loss: 0.4040 - val_loss: 0.4011\n",
            "Epoch 15/400\n",
            "3/3 [==============================] - 0s 11ms/step - loss: 0.3921 - val_loss: 0.3888\n",
            "Epoch 16/400\n",
            "3/3 [==============================] - 0s 11ms/step - loss: 0.3798 - val_loss: 0.3761\n",
            "Epoch 17/400\n",
            "3/3 [==============================] - 0s 10ms/step - loss: 0.3672 - val_loss: 0.3629\n",
            "Epoch 18/400\n",
            "3/3 [==============================] - 0s 10ms/step - loss: 0.3539 - val_loss: 0.3493\n",
            "Epoch 19/400\n",
            "3/3 [==============================] - 0s 10ms/step - loss: 0.3404 - val_loss: 0.3352\n",
            "Epoch 20/400\n",
            "3/3 [==============================] - 0s 10ms/step - loss: 0.3264 - val_loss: 0.3207\n",
            "Epoch 21/400\n",
            "3/3 [==============================] - 0s 10ms/step - loss: 0.3120 - val_loss: 0.3059\n",
            "Epoch 22/400\n",
            "3/3 [==============================] - 0s 10ms/step - loss: 0.2974 - val_loss: 0.2909\n",
            "Epoch 23/400\n",
            "3/3 [==============================] - 0s 10ms/step - loss: 0.2826 - val_loss: 0.2753\n",
            "Epoch 24/400\n",
            "3/3 [==============================] - 0s 13ms/step - loss: 0.2670 - val_loss: 0.2594\n",
            "Epoch 25/400\n",
            "3/3 [==============================] - 0s 10ms/step - loss: 0.2512 - val_loss: 0.2431\n",
            "Epoch 26/400\n",
            "3/3 [==============================] - 0s 10ms/step - loss: 0.2350 - val_loss: 0.2266\n",
            "Epoch 27/400\n",
            "3/3 [==============================] - 0s 11ms/step - loss: 0.2185 - val_loss: 0.2098\n",
            "Epoch 28/400\n",
            "3/3 [==============================] - 0s 10ms/step - loss: 0.2017 - val_loss: 0.1927\n",
            "Epoch 29/400\n",
            "3/3 [==============================] - 0s 10ms/step - loss: 0.1848 - val_loss: 0.1755\n",
            "Epoch 30/400\n",
            "3/3 [==============================] - 0s 10ms/step - loss: 0.1676 - val_loss: 0.1582\n",
            "Epoch 31/400\n",
            "3/3 [==============================] - 0s 11ms/step - loss: 0.1506 - val_loss: 0.1409\n",
            "Epoch 32/400\n",
            "3/3 [==============================] - 0s 10ms/step - loss: 0.1335 - val_loss: 0.1237\n",
            "Epoch 33/400\n",
            "3/3 [==============================] - 0s 11ms/step - loss: 0.1167 - val_loss: 0.1069\n",
            "Epoch 34/400\n",
            "3/3 [==============================] - 0s 12ms/step - loss: 0.1004 - val_loss: 0.0906\n",
            "Epoch 35/400\n",
            "3/3 [==============================] - 0s 11ms/step - loss: 0.0848 - val_loss: 0.0751\n",
            "Epoch 36/400\n",
            "3/3 [==============================] - 0s 13ms/step - loss: 0.0697 - val_loss: 0.0608\n",
            "Epoch 37/400\n",
            "3/3 [==============================] - 0s 12ms/step - loss: 0.0558 - val_loss: 0.0478\n",
            "Epoch 38/400\n",
            "3/3 [==============================] - 0s 10ms/step - loss: 0.0440 - val_loss: 0.0363\n",
            "Epoch 39/400\n",
            "3/3 [==============================] - 0s 10ms/step - loss: 0.0335 - val_loss: 0.0268\n",
            "Epoch 40/400\n",
            "3/3 [==============================] - 0s 12ms/step - loss: 0.0248 - val_loss: 0.0194\n",
            "Epoch 41/400\n",
            "3/3 [==============================] - 0s 10ms/step - loss: 0.0187 - val_loss: 0.0139\n",
            "Epoch 42/400\n",
            "3/3 [==============================] - 0s 10ms/step - loss: 0.0142 - val_loss: 0.0105\n",
            "Epoch 43/400\n",
            "3/3 [==============================] - 0s 11ms/step - loss: 0.0115 - val_loss: 0.0087\n",
            "Epoch 44/400\n",
            "3/3 [==============================] - 0s 10ms/step - loss: 0.0103 - val_loss: 0.0080\n",
            "Epoch 45/400\n",
            "3/3 [==============================] - 0s 12ms/step - loss: 0.0102 - val_loss: 0.0080\n",
            "Epoch 46/400\n",
            "3/3 [==============================] - 0s 10ms/step - loss: 0.0105 - val_loss: 0.0083\n",
            "Epoch 47/400\n",
            "3/3 [==============================] - 0s 10ms/step - loss: 0.0108 - val_loss: 0.0084\n",
            "Epoch 48/400\n",
            "3/3 [==============================] - 0s 10ms/step - loss: 0.0110 - val_loss: 0.0085\n",
            "Epoch 49/400\n",
            "3/3 [==============================] - 0s 10ms/step - loss: 0.0110 - val_loss: 0.0083\n",
            "Epoch 50/400\n",
            "3/3 [==============================] - 0s 10ms/step - loss: 0.0107 - val_loss: 0.0081\n",
            "Epoch 51/400\n",
            "3/3 [==============================] - 0s 11ms/step - loss: 0.0104 - val_loss: 0.0079\n",
            "Epoch 52/400\n",
            "3/3 [==============================] - 0s 10ms/step - loss: 0.0102 - val_loss: 0.0077\n",
            "Epoch 53/400\n",
            "3/3 [==============================] - 0s 12ms/step - loss: 0.0099 - val_loss: 0.0076\n",
            "Epoch 54/400\n",
            "3/3 [==============================] - 0s 10ms/step - loss: 0.0098 - val_loss: 0.0076\n",
            "Epoch 55/400\n",
            "3/3 [==============================] - 0s 10ms/step - loss: 0.0097 - val_loss: 0.0076\n",
            "Epoch 56/400\n",
            "3/3 [==============================] - 0s 10ms/step - loss: 0.0097 - val_loss: 0.0076\n",
            "Epoch 57/400\n",
            "3/3 [==============================] - 0s 10ms/step - loss: 0.0097 - val_loss: 0.0076\n",
            "Epoch 58/400\n",
            "3/3 [==============================] - 0s 10ms/step - loss: 0.0096 - val_loss: 0.0076\n",
            "Epoch 59/400\n",
            "3/3 [==============================] - 0s 11ms/step - loss: 0.0096 - val_loss: 0.0076\n",
            "Epoch 60/400\n",
            "3/3 [==============================] - 0s 10ms/step - loss: 0.0095 - val_loss: 0.0075\n",
            "Epoch 61/400\n",
            "3/3 [==============================] - 0s 10ms/step - loss: 0.0095 - val_loss: 0.0075\n",
            "Epoch 62/400\n",
            "3/3 [==============================] - 0s 10ms/step - loss: 0.0094 - val_loss: 0.0074\n",
            "Epoch 63/400\n",
            "3/3 [==============================] - 0s 13ms/step - loss: 0.0094 - val_loss: 0.0073\n",
            "Epoch 64/400\n",
            "3/3 [==============================] - 0s 15ms/step - loss: 0.0093 - val_loss: 0.0073\n",
            "Epoch 65/400\n",
            "3/3 [==============================] - 0s 11ms/step - loss: 0.0093 - val_loss: 0.0073\n",
            "Epoch 66/400\n",
            "3/3 [==============================] - 0s 10ms/step - loss: 0.0093 - val_loss: 0.0072\n",
            "Epoch 67/400\n",
            "3/3 [==============================] - 0s 10ms/step - loss: 0.0092 - val_loss: 0.0072\n",
            "Epoch 68/400\n",
            "3/3 [==============================] - 0s 10ms/step - loss: 0.0092 - val_loss: 0.0071\n",
            "Epoch 69/400\n",
            "3/3 [==============================] - 0s 10ms/step - loss: 0.0091 - val_loss: 0.0071\n",
            "Epoch 70/400\n",
            "3/3 [==============================] - 0s 10ms/step - loss: 0.0091 - val_loss: 0.0071\n",
            "Epoch 71/400\n",
            "3/3 [==============================] - 0s 10ms/step - loss: 0.0090 - val_loss: 0.0070\n",
            "Epoch 72/400\n",
            "3/3 [==============================] - 0s 13ms/step - loss: 0.0090 - val_loss: 0.0070\n",
            "Epoch 73/400\n",
            "3/3 [==============================] - 0s 10ms/step - loss: 0.0090 - val_loss: 0.0070\n",
            "Epoch 74/400\n",
            "3/3 [==============================] - 0s 10ms/step - loss: 0.0089 - val_loss: 0.0069\n",
            "Epoch 75/400\n",
            "3/3 [==============================] - 0s 11ms/step - loss: 0.0089 - val_loss: 0.0069\n",
            "Epoch 76/400\n",
            "3/3 [==============================] - 0s 10ms/step - loss: 0.0088 - val_loss: 0.0069\n",
            "Epoch 77/400\n",
            "3/3 [==============================] - 0s 10ms/step - loss: 0.0088 - val_loss: 0.0068\n",
            "Epoch 78/400\n",
            "3/3 [==============================] - 0s 10ms/step - loss: 0.0088 - val_loss: 0.0068\n",
            "Epoch 79/400\n",
            "3/3 [==============================] - 0s 10ms/step - loss: 0.0087 - val_loss: 0.0068\n",
            "Epoch 80/400\n",
            "3/3 [==============================] - 0s 10ms/step - loss: 0.0087 - val_loss: 0.0067\n",
            "Epoch 81/400\n",
            "3/3 [==============================] - 0s 10ms/step - loss: 0.0086 - val_loss: 0.0067\n",
            "Epoch 82/400\n",
            "3/3 [==============================] - 0s 12ms/step - loss: 0.0086 - val_loss: 0.0067\n",
            "Epoch 83/400\n",
            "3/3 [==============================] - 0s 45ms/step - loss: 0.0085 - val_loss: 0.0066\n",
            "Epoch 84/400\n",
            "3/3 [==============================] - 0s 10ms/step - loss: 0.0085 - val_loss: 0.0066\n",
            "Epoch 85/400\n",
            "3/3 [==============================] - 0s 13ms/step - loss: 0.0085 - val_loss: 0.0066\n",
            "Epoch 86/400\n",
            "3/3 [==============================] - 0s 12ms/step - loss: 0.0084 - val_loss: 0.0065\n",
            "Epoch 87/400\n",
            "3/3 [==============================] - 0s 13ms/step - loss: 0.0084 - val_loss: 0.0065\n",
            "Epoch 88/400\n",
            "3/3 [==============================] - 0s 16ms/step - loss: 0.0083 - val_loss: 0.0065\n",
            "Epoch 89/400\n",
            "3/3 [==============================] - 0s 11ms/step - loss: 0.0083 - val_loss: 0.0064\n",
            "Epoch 90/400\n",
            "3/3 [==============================] - 0s 11ms/step - loss: 0.0083 - val_loss: 0.0064\n",
            "Epoch 91/400\n",
            "3/3 [==============================] - 0s 10ms/step - loss: 0.0082 - val_loss: 0.0064\n",
            "Epoch 92/400\n",
            "3/3 [==============================] - 0s 11ms/step - loss: 0.0082 - val_loss: 0.0064\n",
            "Epoch 93/400\n",
            "3/3 [==============================] - 0s 10ms/step - loss: 0.0081 - val_loss: 0.0063\n",
            "Epoch 94/400\n",
            "3/3 [==============================] - 0s 10ms/step - loss: 0.0081 - val_loss: 0.0063\n",
            "Epoch 95/400\n",
            "3/3 [==============================] - 0s 10ms/step - loss: 0.0081 - val_loss: 0.0063\n",
            "Epoch 96/400\n",
            "3/3 [==============================] - 0s 10ms/step - loss: 0.0080 - val_loss: 0.0062\n",
            "Epoch 97/400\n",
            "3/3 [==============================] - 0s 11ms/step - loss: 0.0080 - val_loss: 0.0062\n",
            "Epoch 98/400\n",
            "3/3 [==============================] - 0s 11ms/step - loss: 0.0080 - val_loss: 0.0062\n",
            "Epoch 99/400\n",
            "3/3 [==============================] - 0s 10ms/step - loss: 0.0079 - val_loss: 0.0061\n",
            "Epoch 100/400\n",
            "3/3 [==============================] - 0s 10ms/step - loss: 0.0079 - val_loss: 0.0061\n",
            "Epoch 101/400\n",
            "3/3 [==============================] - 0s 13ms/step - loss: 0.0078 - val_loss: 0.0061\n",
            "Epoch 102/400\n",
            "3/3 [==============================] - 0s 11ms/step - loss: 0.0078 - val_loss: 0.0060\n",
            "Epoch 103/400\n",
            "3/3 [==============================] - 0s 10ms/step - loss: 0.0078 - val_loss: 0.0060\n",
            "Epoch 104/400\n",
            "3/3 [==============================] - 0s 11ms/step - loss: 0.0077 - val_loss: 0.0060\n",
            "Epoch 105/400\n",
            "3/3 [==============================] - 0s 10ms/step - loss: 0.0077 - val_loss: 0.0060\n",
            "Epoch 106/400\n",
            "3/3 [==============================] - 0s 10ms/step - loss: 0.0076 - val_loss: 0.0059\n",
            "Epoch 107/400\n",
            "3/3 [==============================] - 0s 11ms/step - loss: 0.0076 - val_loss: 0.0059\n",
            "Epoch 108/400\n",
            "3/3 [==============================] - 0s 12ms/step - loss: 0.0076 - val_loss: 0.0059\n",
            "Epoch 109/400\n",
            "3/3 [==============================] - 0s 11ms/step - loss: 0.0075 - val_loss: 0.0058\n",
            "Epoch 110/400\n",
            "3/3 [==============================] - 0s 11ms/step - loss: 0.0075 - val_loss: 0.0058\n",
            "Epoch 111/400\n",
            "3/3 [==============================] - 0s 12ms/step - loss: 0.0075 - val_loss: 0.0058\n",
            "Epoch 112/400\n",
            "3/3 [==============================] - 0s 10ms/step - loss: 0.0074 - val_loss: 0.0058\n",
            "Epoch 113/400\n",
            "3/3 [==============================] - 0s 11ms/step - loss: 0.0074 - val_loss: 0.0057\n",
            "Epoch 114/400\n",
            "3/3 [==============================] - 0s 10ms/step - loss: 0.0074 - val_loss: 0.0057\n",
            "Epoch 115/400\n",
            "3/3 [==============================] - 0s 13ms/step - loss: 0.0073 - val_loss: 0.0057\n",
            "Epoch 116/400\n",
            "3/3 [==============================] - 0s 10ms/step - loss: 0.0073 - val_loss: 0.0056\n",
            "Epoch 117/400\n",
            "3/3 [==============================] - 0s 10ms/step - loss: 0.0073 - val_loss: 0.0056\n",
            "Epoch 118/400\n",
            "3/3 [==============================] - 0s 10ms/step - loss: 0.0072 - val_loss: 0.0056\n",
            "Epoch 119/400\n",
            "3/3 [==============================] - 0s 10ms/step - loss: 0.0072 - val_loss: 0.0056\n",
            "Epoch 120/400\n",
            "3/3 [==============================] - 0s 12ms/step - loss: 0.0072 - val_loss: 0.0055\n",
            "Epoch 121/400\n",
            "3/3 [==============================] - 0s 11ms/step - loss: 0.0071 - val_loss: 0.0055\n",
            "Epoch 122/400\n",
            "3/3 [==============================] - 0s 11ms/step - loss: 0.0071 - val_loss: 0.0055\n",
            "Epoch 123/400\n",
            "3/3 [==============================] - 0s 11ms/step - loss: 0.0071 - val_loss: 0.0055\n",
            "Epoch 124/400\n",
            "3/3 [==============================] - 0s 12ms/step - loss: 0.0070 - val_loss: 0.0054\n",
            "Epoch 125/400\n",
            "3/3 [==============================] - 0s 11ms/step - loss: 0.0070 - val_loss: 0.0054\n",
            "Epoch 126/400\n",
            "3/3 [==============================] - 0s 10ms/step - loss: 0.0069 - val_loss: 0.0054\n",
            "Epoch 127/400\n",
            "3/3 [==============================] - 0s 10ms/step - loss: 0.0069 - val_loss: 0.0054\n",
            "Epoch 128/400\n",
            "3/3 [==============================] - 0s 10ms/step - loss: 0.0069 - val_loss: 0.0053\n",
            "Epoch 129/400\n",
            "3/3 [==============================] - 0s 10ms/step - loss: 0.0068 - val_loss: 0.0053\n",
            "Epoch 130/400\n",
            "3/3 [==============================] - 0s 12ms/step - loss: 0.0068 - val_loss: 0.0053\n",
            "Epoch 131/400\n",
            "3/3 [==============================] - 0s 10ms/step - loss: 0.0068 - val_loss: 0.0052\n",
            "Epoch 132/400\n",
            "3/3 [==============================] - 0s 10ms/step - loss: 0.0068 - val_loss: 0.0052\n",
            "Epoch 133/400\n",
            "3/3 [==============================] - 0s 13ms/step - loss: 0.0067 - val_loss: 0.0052\n",
            "Epoch 134/400\n",
            "3/3 [==============================] - 0s 11ms/step - loss: 0.0067 - val_loss: 0.0052\n",
            "Epoch 135/400\n",
            "3/3 [==============================] - 0s 10ms/step - loss: 0.0067 - val_loss: 0.0051\n",
            "Epoch 136/400\n",
            "3/3 [==============================] - 0s 10ms/step - loss: 0.0066 - val_loss: 0.0051\n",
            "Epoch 137/400\n",
            "3/3 [==============================] - 0s 10ms/step - loss: 0.0066 - val_loss: 0.0051\n",
            "Epoch 138/400\n",
            "3/3 [==============================] - 0s 11ms/step - loss: 0.0066 - val_loss: 0.0051\n",
            "Epoch 139/400\n",
            "3/3 [==============================] - 0s 10ms/step - loss: 0.0065 - val_loss: 0.0051\n",
            "Epoch 140/400\n",
            "3/3 [==============================] - 0s 14ms/step - loss: 0.0065 - val_loss: 0.0050\n",
            "Epoch 141/400\n",
            "3/3 [==============================] - 0s 10ms/step - loss: 0.0065 - val_loss: 0.0050\n",
            "Epoch 142/400\n",
            "3/3 [==============================] - 0s 12ms/step - loss: 0.0064 - val_loss: 0.0050\n",
            "Epoch 143/400\n",
            "3/3 [==============================] - 0s 10ms/step - loss: 0.0064 - val_loss: 0.0050\n",
            "Epoch 144/400\n",
            "3/3 [==============================] - 0s 10ms/step - loss: 0.0064 - val_loss: 0.0049\n",
            "Epoch 145/400\n",
            "3/3 [==============================] - 0s 11ms/step - loss: 0.0063 - val_loss: 0.0049\n",
            "Epoch 146/400\n",
            "3/3 [==============================] - 0s 11ms/step - loss: 0.0063 - val_loss: 0.0049\n",
            "Epoch 147/400\n",
            "3/3 [==============================] - 0s 10ms/step - loss: 0.0063 - val_loss: 0.0049\n",
            "Epoch 148/400\n",
            "3/3 [==============================] - 0s 10ms/step - loss: 0.0063 - val_loss: 0.0049\n",
            "Epoch 149/400\n",
            "3/3 [==============================] - 0s 15ms/step - loss: 0.0062 - val_loss: 0.0048\n",
            "Epoch 150/400\n",
            "3/3 [==============================] - 0s 10ms/step - loss: 0.0062 - val_loss: 0.0048\n",
            "Epoch 151/400\n",
            "3/3 [==============================] - 0s 10ms/step - loss: 0.0062 - val_loss: 0.0048\n",
            "Epoch 152/400\n",
            "3/3 [==============================] - 0s 11ms/step - loss: 0.0061 - val_loss: 0.0048\n",
            "Epoch 153/400\n",
            "3/3 [==============================] - 0s 10ms/step - loss: 0.0061 - val_loss: 0.0048\n",
            "Epoch 154/400\n",
            "3/3 [==============================] - 0s 10ms/step - loss: 0.0061 - val_loss: 0.0047\n",
            "Epoch 155/400\n",
            "3/3 [==============================] - 0s 10ms/step - loss: 0.0061 - val_loss: 0.0047\n",
            "Epoch 156/400\n",
            "3/3 [==============================] - 0s 12ms/step - loss: 0.0060 - val_loss: 0.0047\n",
            "Epoch 157/400\n",
            "3/3 [==============================] - 0s 12ms/step - loss: 0.0060 - val_loss: 0.0047\n",
            "Epoch 158/400\n",
            "3/3 [==============================] - 0s 10ms/step - loss: 0.0060 - val_loss: 0.0047\n",
            "Epoch 159/400\n",
            "3/3 [==============================] - 0s 12ms/step - loss: 0.0060 - val_loss: 0.0046\n",
            "Epoch 160/400\n",
            "3/3 [==============================] - 0s 10ms/step - loss: 0.0059 - val_loss: 0.0046\n",
            "Epoch 161/400\n",
            "3/3 [==============================] - 0s 10ms/step - loss: 0.0059 - val_loss: 0.0046\n",
            "Epoch 162/400\n",
            "3/3 [==============================] - 0s 10ms/step - loss: 0.0059 - val_loss: 0.0046\n",
            "Epoch 163/400\n",
            "3/3 [==============================] - 0s 11ms/step - loss: 0.0059 - val_loss: 0.0046\n",
            "Epoch 164/400\n",
            "3/3 [==============================] - 0s 10ms/step - loss: 0.0058 - val_loss: 0.0046\n",
            "Epoch 165/400\n",
            "3/3 [==============================] - 0s 10ms/step - loss: 0.0058 - val_loss: 0.0045\n",
            "Epoch 166/400\n",
            "3/3 [==============================] - 0s 10ms/step - loss: 0.0058 - val_loss: 0.0045\n",
            "Epoch 167/400\n",
            "3/3 [==============================] - 0s 13ms/step - loss: 0.0057 - val_loss: 0.0045\n",
            "Epoch 168/400\n",
            "3/3 [==============================] - 0s 12ms/step - loss: 0.0057 - val_loss: 0.0045\n",
            "Epoch 169/400\n",
            "3/3 [==============================] - 0s 12ms/step - loss: 0.0057 - val_loss: 0.0045\n",
            "Epoch 170/400\n",
            "3/3 [==============================] - 0s 10ms/step - loss: 0.0057 - val_loss: 0.0044\n",
            "Epoch 171/400\n",
            "3/3 [==============================] - 0s 11ms/step - loss: 0.0056 - val_loss: 0.0044\n",
            "Epoch 172/400\n",
            "3/3 [==============================] - 0s 11ms/step - loss: 0.0056 - val_loss: 0.0044\n",
            "Epoch 173/400\n",
            "3/3 [==============================] - 0s 10ms/step - loss: 0.0056 - val_loss: 0.0044\n",
            "Epoch 174/400\n",
            "3/3 [==============================] - 0s 10ms/step - loss: 0.0056 - val_loss: 0.0044\n",
            "Epoch 175/400\n",
            "3/3 [==============================] - 0s 13ms/step - loss: 0.0055 - val_loss: 0.0044\n",
            "Epoch 176/400\n",
            "3/3 [==============================] - 0s 10ms/step - loss: 0.0055 - val_loss: 0.0044\n",
            "Epoch 177/400\n",
            "3/3 [==============================] - 0s 10ms/step - loss: 0.0055 - val_loss: 0.0043\n",
            "Epoch 178/400\n",
            "3/3 [==============================] - 0s 12ms/step - loss: 0.0055 - val_loss: 0.0043\n",
            "Epoch 179/400\n",
            "3/3 [==============================] - 0s 10ms/step - loss: 0.0055 - val_loss: 0.0043\n",
            "Epoch 180/400\n",
            "3/3 [==============================] - 0s 10ms/step - loss: 0.0054 - val_loss: 0.0043\n",
            "Epoch 181/400\n",
            "3/3 [==============================] - 0s 10ms/step - loss: 0.0054 - val_loss: 0.0043\n",
            "Epoch 182/400\n",
            "3/3 [==============================] - 0s 12ms/step - loss: 0.0054 - val_loss: 0.0043\n",
            "Epoch 183/400\n",
            "3/3 [==============================] - 0s 12ms/step - loss: 0.0054 - val_loss: 0.0043\n",
            "Epoch 184/400\n",
            "3/3 [==============================] - 0s 10ms/step - loss: 0.0053 - val_loss: 0.0043\n",
            "Epoch 185/400\n",
            "3/3 [==============================] - 0s 10ms/step - loss: 0.0053 - val_loss: 0.0042\n",
            "Epoch 186/400\n",
            "3/3 [==============================] - 0s 10ms/step - loss: 0.0053 - val_loss: 0.0042\n",
            "Epoch 187/400\n",
            "3/3 [==============================] - 0s 11ms/step - loss: 0.0053 - val_loss: 0.0042\n",
            "Epoch 188/400\n",
            "3/3 [==============================] - 0s 13ms/step - loss: 0.0053 - val_loss: 0.0042\n",
            "Epoch 189/400\n",
            "3/3 [==============================] - 0s 12ms/step - loss: 0.0052 - val_loss: 0.0042\n",
            "Epoch 190/400\n",
            "3/3 [==============================] - 0s 10ms/step - loss: 0.0052 - val_loss: 0.0042\n",
            "Epoch 191/400\n",
            "3/3 [==============================] - 0s 10ms/step - loss: 0.0052 - val_loss: 0.0042\n",
            "Epoch 192/400\n",
            "3/3 [==============================] - 0s 10ms/step - loss: 0.0052 - val_loss: 0.0042\n",
            "Epoch 193/400\n",
            "3/3 [==============================] - 0s 12ms/step - loss: 0.0052 - val_loss: 0.0042\n",
            "Epoch 194/400\n",
            "3/3 [==============================] - 0s 10ms/step - loss: 0.0051 - val_loss: 0.0042\n",
            "Epoch 195/400\n",
            "3/3 [==============================] - 0s 11ms/step - loss: 0.0051 - val_loss: 0.0041\n",
            "Epoch 196/400\n",
            "3/3 [==============================] - 0s 10ms/step - loss: 0.0051 - val_loss: 0.0041\n",
            "Epoch 197/400\n",
            "3/3 [==============================] - 0s 12ms/step - loss: 0.0051 - val_loss: 0.0041\n",
            "Epoch 198/400\n",
            "3/3 [==============================] - 0s 11ms/step - loss: 0.0051 - val_loss: 0.0041\n",
            "Epoch 199/400\n",
            "3/3 [==============================] - 0s 10ms/step - loss: 0.0050 - val_loss: 0.0041\n",
            "Epoch 200/400\n",
            "3/3 [==============================] - 0s 10ms/step - loss: 0.0050 - val_loss: 0.0041\n",
            "Epoch 201/400\n",
            "3/3 [==============================] - 0s 11ms/step - loss: 0.0050 - val_loss: 0.0041\n",
            "Epoch 202/400\n",
            "3/3 [==============================] - 0s 10ms/step - loss: 0.0050 - val_loss: 0.0041\n",
            "Epoch 203/400\n",
            "3/3 [==============================] - 0s 10ms/step - loss: 0.0050 - val_loss: 0.0041\n",
            "Epoch 204/400\n",
            "3/3 [==============================] - 0s 10ms/step - loss: 0.0050 - val_loss: 0.0041\n",
            "Epoch 205/400\n",
            "3/3 [==============================] - 0s 11ms/step - loss: 0.0049 - val_loss: 0.0041\n",
            "Epoch 206/400\n",
            "3/3 [==============================] - 0s 11ms/step - loss: 0.0049 - val_loss: 0.0041\n",
            "Epoch 207/400\n",
            "3/3 [==============================] - 0s 13ms/step - loss: 0.0049 - val_loss: 0.0040\n",
            "Epoch 208/400\n",
            "3/3 [==============================] - 0s 11ms/step - loss: 0.0049 - val_loss: 0.0040\n",
            "Epoch 209/400\n",
            "3/3 [==============================] - 0s 10ms/step - loss: 0.0049 - val_loss: 0.0040\n",
            "Epoch 210/400\n",
            "3/3 [==============================] - 0s 10ms/step - loss: 0.0049 - val_loss: 0.0040\n",
            "Epoch 211/400\n",
            "3/3 [==============================] - 0s 10ms/step - loss: 0.0049 - val_loss: 0.0040\n",
            "Epoch 212/400\n",
            "3/3 [==============================] - 0s 10ms/step - loss: 0.0048 - val_loss: 0.0040\n",
            "Epoch 213/400\n",
            "3/3 [==============================] - 0s 10ms/step - loss: 0.0048 - val_loss: 0.0040\n",
            "Epoch 214/400\n",
            "3/3 [==============================] - 0s 10ms/step - loss: 0.0048 - val_loss: 0.0040\n",
            "Epoch 215/400\n",
            "3/3 [==============================] - 0s 10ms/step - loss: 0.0048 - val_loss: 0.0040\n",
            "Epoch 216/400\n",
            "3/3 [==============================] - 0s 11ms/step - loss: 0.0048 - val_loss: 0.0040\n",
            "Epoch 217/400\n",
            "3/3 [==============================] - 0s 13ms/step - loss: 0.0048 - val_loss: 0.0040\n",
            "Epoch 218/400\n",
            "3/3 [==============================] - 0s 10ms/step - loss: 0.0048 - val_loss: 0.0040\n",
            "Epoch 219/400\n",
            "3/3 [==============================] - 0s 11ms/step - loss: 0.0047 - val_loss: 0.0040\n",
            "Epoch 220/400\n",
            "3/3 [==============================] - 0s 10ms/step - loss: 0.0047 - val_loss: 0.0040\n",
            "Epoch 221/400\n",
            "3/3 [==============================] - 0s 10ms/step - loss: 0.0047 - val_loss: 0.0040\n",
            "Epoch 222/400\n",
            "3/3 [==============================] - 0s 11ms/step - loss: 0.0047 - val_loss: 0.0040\n",
            "Epoch 223/400\n",
            "3/3 [==============================] - 0s 10ms/step - loss: 0.0047 - val_loss: 0.0040\n",
            "Epoch 224/400\n",
            "3/3 [==============================] - 0s 10ms/step - loss: 0.0047 - val_loss: 0.0040\n",
            "Epoch 225/400\n",
            "3/3 [==============================] - 0s 10ms/step - loss: 0.0047 - val_loss: 0.0040\n",
            "Epoch 226/400\n",
            "3/3 [==============================] - 0s 13ms/step - loss: 0.0047 - val_loss: 0.0040\n",
            "Epoch 227/400\n",
            "3/3 [==============================] - 0s 11ms/step - loss: 0.0047 - val_loss: 0.0040\n",
            "Epoch 228/400\n",
            "3/3 [==============================] - 0s 11ms/step - loss: 0.0047 - val_loss: 0.0039\n",
            "Epoch 229/400\n",
            "3/3 [==============================] - 0s 10ms/step - loss: 0.0046 - val_loss: 0.0039\n",
            "Epoch 230/400\n",
            "3/3 [==============================] - 0s 11ms/step - loss: 0.0046 - val_loss: 0.0039\n",
            "Epoch 231/400\n",
            "3/3 [==============================] - 0s 10ms/step - loss: 0.0046 - val_loss: 0.0039\n",
            "Epoch 232/400\n",
            "3/3 [==============================] - 0s 10ms/step - loss: 0.0046 - val_loss: 0.0039\n",
            "Epoch 233/400\n",
            "3/3 [==============================] - 0s 11ms/step - loss: 0.0046 - val_loss: 0.0039\n",
            "Epoch 234/400\n",
            "3/3 [==============================] - 0s 10ms/step - loss: 0.0046 - val_loss: 0.0039\n",
            "Epoch 235/400\n",
            "3/3 [==============================] - 0s 10ms/step - loss: 0.0046 - val_loss: 0.0039\n",
            "Epoch 236/400\n",
            "3/3 [==============================] - 0s 13ms/step - loss: 0.0046 - val_loss: 0.0039\n",
            "Epoch 237/400\n",
            "3/3 [==============================] - 0s 10ms/step - loss: 0.0046 - val_loss: 0.0039\n",
            "Epoch 238/400\n",
            "3/3 [==============================] - 0s 12ms/step - loss: 0.0046 - val_loss: 0.0039\n",
            "Epoch 239/400\n",
            "3/3 [==============================] - 0s 10ms/step - loss: 0.0045 - val_loss: 0.0039\n",
            "Epoch 240/400\n",
            "3/3 [==============================] - 0s 11ms/step - loss: 0.0045 - val_loss: 0.0039\n",
            "Epoch 241/400\n",
            "3/3 [==============================] - 0s 10ms/step - loss: 0.0045 - val_loss: 0.0039\n",
            "Epoch 242/400\n",
            "3/3 [==============================] - 0s 11ms/step - loss: 0.0045 - val_loss: 0.0039\n",
            "Epoch 243/400\n",
            "3/3 [==============================] - 0s 11ms/step - loss: 0.0045 - val_loss: 0.0039\n",
            "Epoch 244/400\n",
            "3/3 [==============================] - 0s 10ms/step - loss: 0.0045 - val_loss: 0.0039\n",
            "Epoch 245/400\n",
            "3/3 [==============================] - 0s 13ms/step - loss: 0.0045 - val_loss: 0.0039\n",
            "Epoch 246/400\n",
            "3/3 [==============================] - 0s 11ms/step - loss: 0.0045 - val_loss: 0.0039\n",
            "Epoch 247/400\n",
            "3/3 [==============================] - 0s 10ms/step - loss: 0.0045 - val_loss: 0.0039\n",
            "Epoch 248/400\n",
            "3/3 [==============================] - 0s 12ms/step - loss: 0.0045 - val_loss: 0.0039\n",
            "Epoch 249/400\n",
            "3/3 [==============================] - 0s 13ms/step - loss: 0.0045 - val_loss: 0.0039\n",
            "Epoch 250/400\n",
            "3/3 [==============================] - 0s 12ms/step - loss: 0.0045 - val_loss: 0.0039\n",
            "Epoch 251/400\n",
            "3/3 [==============================] - 0s 11ms/step - loss: 0.0045 - val_loss: 0.0039\n",
            "Epoch 252/400\n",
            "3/3 [==============================] - 0s 10ms/step - loss: 0.0045 - val_loss: 0.0039\n",
            "Epoch 253/400\n",
            "3/3 [==============================] - 0s 11ms/step - loss: 0.0044 - val_loss: 0.0039\n",
            "Epoch 254/400\n",
            "3/3 [==============================] - 0s 10ms/step - loss: 0.0044 - val_loss: 0.0039\n",
            "Epoch 255/400\n",
            "3/3 [==============================] - 0s 12ms/step - loss: 0.0044 - val_loss: 0.0038\n",
            "Epoch 256/400\n",
            "3/3 [==============================] - 0s 10ms/step - loss: 0.0044 - val_loss: 0.0038\n",
            "Epoch 257/400\n",
            "3/3 [==============================] - 0s 11ms/step - loss: 0.0044 - val_loss: 0.0038\n",
            "Epoch 258/400\n",
            "3/3 [==============================] - 0s 10ms/step - loss: 0.0044 - val_loss: 0.0038\n",
            "Epoch 259/400\n",
            "3/3 [==============================] - 0s 10ms/step - loss: 0.0044 - val_loss: 0.0038\n",
            "Epoch 260/400\n",
            "3/3 [==============================] - 0s 10ms/step - loss: 0.0044 - val_loss: 0.0038\n",
            "Epoch 261/400\n",
            "3/3 [==============================] - 0s 11ms/step - loss: 0.0044 - val_loss: 0.0038\n",
            "Epoch 262/400\n",
            "3/3 [==============================] - 0s 10ms/step - loss: 0.0044 - val_loss: 0.0038\n",
            "Epoch 263/400\n",
            "3/3 [==============================] - 0s 10ms/step - loss: 0.0044 - val_loss: 0.0038\n",
            "Epoch 264/400\n",
            "3/3 [==============================] - 0s 10ms/step - loss: 0.0044 - val_loss: 0.0038\n",
            "Epoch 265/400\n",
            "3/3 [==============================] - 0s 13ms/step - loss: 0.0044 - val_loss: 0.0038\n",
            "Epoch 266/400\n",
            "3/3 [==============================] - 0s 10ms/step - loss: 0.0044 - val_loss: 0.0038\n",
            "Epoch 267/400\n",
            "3/3 [==============================] - 0s 10ms/step - loss: 0.0044 - val_loss: 0.0038\n",
            "Epoch 268/400\n",
            "3/3 [==============================] - 0s 11ms/step - loss: 0.0043 - val_loss: 0.0038\n",
            "Epoch 269/400\n",
            "3/3 [==============================] - 0s 11ms/step - loss: 0.0043 - val_loss: 0.0038\n",
            "Epoch 270/400\n",
            "3/3 [==============================] - 0s 10ms/step - loss: 0.0043 - val_loss: 0.0038\n",
            "Epoch 271/400\n",
            "3/3 [==============================] - 0s 10ms/step - loss: 0.0043 - val_loss: 0.0038\n",
            "Epoch 272/400\n",
            "3/3 [==============================] - 0s 12ms/step - loss: 0.0043 - val_loss: 0.0038\n",
            "Epoch 273/400\n",
            "3/3 [==============================] - 0s 13ms/step - loss: 0.0043 - val_loss: 0.0038\n",
            "Epoch 274/400\n",
            "3/3 [==============================] - 0s 11ms/step - loss: 0.0043 - val_loss: 0.0038\n",
            "Epoch 275/400\n",
            "3/3 [==============================] - 0s 10ms/step - loss: 0.0043 - val_loss: 0.0038\n",
            "Epoch 276/400\n",
            "3/3 [==============================] - 0s 12ms/step - loss: 0.0043 - val_loss: 0.0038\n",
            "Epoch 277/400\n",
            "3/3 [==============================] - 0s 11ms/step - loss: 0.0043 - val_loss: 0.0038\n",
            "Epoch 278/400\n",
            "3/3 [==============================] - 0s 11ms/step - loss: 0.0043 - val_loss: 0.0038\n",
            "Epoch 279/400\n",
            "3/3 [==============================] - 0s 13ms/step - loss: 0.0043 - val_loss: 0.0038\n",
            "Epoch 280/400\n",
            "3/3 [==============================] - 0s 10ms/step - loss: 0.0043 - val_loss: 0.0038\n",
            "Epoch 281/400\n",
            "3/3 [==============================] - 0s 10ms/step - loss: 0.0043 - val_loss: 0.0038\n",
            "Epoch 282/400\n",
            "3/3 [==============================] - 0s 10ms/step - loss: 0.0043 - val_loss: 0.0038\n",
            "Epoch 283/400\n",
            "3/3 [==============================] - 0s 11ms/step - loss: 0.0043 - val_loss: 0.0038\n",
            "Epoch 284/400\n",
            "3/3 [==============================] - 0s 12ms/step - loss: 0.0043 - val_loss: 0.0038\n",
            "Epoch 285/400\n",
            "3/3 [==============================] - 0s 10ms/step - loss: 0.0043 - val_loss: 0.0038\n",
            "Epoch 286/400\n",
            "3/3 [==============================] - 0s 10ms/step - loss: 0.0043 - val_loss: 0.0038\n",
            "Epoch 287/400\n",
            "3/3 [==============================] - 0s 11ms/step - loss: 0.0043 - val_loss: 0.0038\n",
            "Epoch 288/400\n",
            "3/3 [==============================] - 0s 10ms/step - loss: 0.0042 - val_loss: 0.0038\n",
            "Epoch 289/400\n",
            "3/3 [==============================] - 0s 12ms/step - loss: 0.0042 - val_loss: 0.0038\n",
            "Epoch 290/400\n",
            "3/3 [==============================] - 0s 11ms/step - loss: 0.0042 - val_loss: 0.0038\n",
            "Epoch 291/400\n",
            "3/3 [==============================] - 0s 10ms/step - loss: 0.0042 - val_loss: 0.0038\n",
            "Epoch 292/400\n",
            "3/3 [==============================] - 0s 10ms/step - loss: 0.0042 - val_loss: 0.0038\n",
            "Epoch 293/400\n",
            "3/3 [==============================] - 0s 12ms/step - loss: 0.0042 - val_loss: 0.0038\n",
            "Epoch 294/400\n",
            "3/3 [==============================] - 0s 10ms/step - loss: 0.0042 - val_loss: 0.0038\n",
            "Epoch 295/400\n",
            "3/3 [==============================] - 0s 10ms/step - loss: 0.0042 - val_loss: 0.0038\n",
            "Epoch 296/400\n",
            "3/3 [==============================] - 0s 12ms/step - loss: 0.0042 - val_loss: 0.0038\n",
            "Epoch 297/400\n",
            "3/3 [==============================] - 0s 11ms/step - loss: 0.0042 - val_loss: 0.0037\n",
            "Epoch 298/400\n",
            "3/3 [==============================] - 0s 10ms/step - loss: 0.0042 - val_loss: 0.0037\n",
            "Epoch 299/400\n",
            "3/3 [==============================] - 0s 11ms/step - loss: 0.0042 - val_loss: 0.0037\n",
            "Epoch 300/400\n",
            "3/3 [==============================] - 0s 10ms/step - loss: 0.0042 - val_loss: 0.0037\n",
            "Epoch 301/400\n",
            "3/3 [==============================] - 0s 11ms/step - loss: 0.0042 - val_loss: 0.0037\n",
            "Epoch 302/400\n",
            "3/3 [==============================] - 0s 11ms/step - loss: 0.0042 - val_loss: 0.0037\n",
            "Epoch 303/400\n",
            "3/3 [==============================] - 0s 13ms/step - loss: 0.0042 - val_loss: 0.0037\n",
            "Epoch 304/400\n",
            "3/3 [==============================] - 0s 11ms/step - loss: 0.0042 - val_loss: 0.0037\n",
            "Epoch 305/400\n",
            "3/3 [==============================] - 0s 10ms/step - loss: 0.0042 - val_loss: 0.0037\n",
            "Epoch 306/400\n",
            "3/3 [==============================] - 0s 11ms/step - loss: 0.0042 - val_loss: 0.0037\n",
            "Epoch 307/400\n",
            "3/3 [==============================] - 0s 10ms/step - loss: 0.0042 - val_loss: 0.0037\n",
            "Epoch 308/400\n",
            "3/3 [==============================] - 0s 12ms/step - loss: 0.0042 - val_loss: 0.0037\n",
            "Epoch 309/400\n",
            "3/3 [==============================] - 0s 10ms/step - loss: 0.0042 - val_loss: 0.0037\n",
            "Epoch 310/400\n",
            "3/3 [==============================] - 0s 10ms/step - loss: 0.0042 - val_loss: 0.0037\n",
            "Epoch 311/400\n",
            "3/3 [==============================] - 0s 10ms/step - loss: 0.0042 - val_loss: 0.0037\n",
            "Epoch 312/400\n",
            "3/3 [==============================] - 0s 10ms/step - loss: 0.0042 - val_loss: 0.0037\n",
            "Epoch 313/400\n",
            "3/3 [==============================] - 0s 12ms/step - loss: 0.0041 - val_loss: 0.0037\n",
            "Epoch 314/400\n",
            "3/3 [==============================] - 0s 11ms/step - loss: 0.0041 - val_loss: 0.0037\n",
            "Epoch 315/400\n",
            "3/3 [==============================] - 0s 10ms/step - loss: 0.0041 - val_loss: 0.0037\n",
            "Epoch 316/400\n",
            "3/3 [==============================] - 0s 11ms/step - loss: 0.0041 - val_loss: 0.0037\n",
            "Epoch 317/400\n",
            "3/3 [==============================] - 0s 12ms/step - loss: 0.0041 - val_loss: 0.0037\n",
            "Epoch 318/400\n",
            "3/3 [==============================] - 0s 11ms/step - loss: 0.0041 - val_loss: 0.0037\n",
            "Epoch 319/400\n",
            "3/3 [==============================] - 0s 10ms/step - loss: 0.0041 - val_loss: 0.0037\n",
            "Epoch 320/400\n",
            "3/3 [==============================] - 0s 10ms/step - loss: 0.0041 - val_loss: 0.0037\n",
            "Epoch 321/400\n",
            "3/3 [==============================] - 0s 10ms/step - loss: 0.0041 - val_loss: 0.0037\n",
            "Epoch 322/400\n",
            "3/3 [==============================] - 0s 12ms/step - loss: 0.0041 - val_loss: 0.0037\n",
            "Epoch 323/400\n",
            "3/3 [==============================] - 0s 10ms/step - loss: 0.0041 - val_loss: 0.0037\n",
            "Epoch 324/400\n",
            "3/3 [==============================] - 0s 10ms/step - loss: 0.0041 - val_loss: 0.0037\n",
            "Epoch 325/400\n",
            "3/3 [==============================] - 0s 10ms/step - loss: 0.0041 - val_loss: 0.0037\n",
            "Epoch 326/400\n",
            "3/3 [==============================] - 0s 11ms/step - loss: 0.0041 - val_loss: 0.0037\n",
            "Epoch 327/400\n",
            "3/3 [==============================] - 0s 12ms/step - loss: 0.0041 - val_loss: 0.0037\n",
            "Epoch 328/400\n",
            "3/3 [==============================] - 0s 10ms/step - loss: 0.0041 - val_loss: 0.0037\n",
            "Epoch 329/400\n",
            "3/3 [==============================] - 0s 10ms/step - loss: 0.0041 - val_loss: 0.0037\n",
            "Epoch 330/400\n",
            "3/3 [==============================] - 0s 12ms/step - loss: 0.0041 - val_loss: 0.0037\n",
            "Epoch 331/400\n",
            "3/3 [==============================] - 0s 10ms/step - loss: 0.0041 - val_loss: 0.0037\n",
            "Epoch 332/400\n",
            "3/3 [==============================] - 0s 12ms/step - loss: 0.0041 - val_loss: 0.0037\n",
            "Epoch 333/400\n",
            "3/3 [==============================] - 0s 10ms/step - loss: 0.0041 - val_loss: 0.0037\n",
            "Epoch 334/400\n",
            "3/3 [==============================] - 0s 11ms/step - loss: 0.0041 - val_loss: 0.0037\n",
            "Epoch 335/400\n",
            "3/3 [==============================] - 0s 11ms/step - loss: 0.0041 - val_loss: 0.0037\n",
            "Epoch 336/400\n",
            "3/3 [==============================] - 0s 10ms/step - loss: 0.0041 - val_loss: 0.0037\n",
            "Epoch 337/400\n",
            "3/3 [==============================] - 0s 10ms/step - loss: 0.0041 - val_loss: 0.0037\n",
            "Epoch 338/400\n",
            "3/3 [==============================] - 0s 11ms/step - loss: 0.0041 - val_loss: 0.0037\n",
            "Epoch 339/400\n",
            "3/3 [==============================] - 0s 10ms/step - loss: 0.0041 - val_loss: 0.0037\n",
            "Epoch 340/400\n",
            "3/3 [==============================] - 0s 10ms/step - loss: 0.0040 - val_loss: 0.0037\n",
            "Epoch 341/400\n",
            "3/3 [==============================] - 0s 12ms/step - loss: 0.0040 - val_loss: 0.0037\n",
            "Epoch 342/400\n",
            "3/3 [==============================] - 0s 12ms/step - loss: 0.0040 - val_loss: 0.0037\n",
            "Epoch 343/400\n",
            "3/3 [==============================] - 0s 12ms/step - loss: 0.0040 - val_loss: 0.0037\n",
            "Epoch 344/400\n",
            "3/3 [==============================] - 0s 11ms/step - loss: 0.0040 - val_loss: 0.0037\n",
            "Epoch 345/400\n",
            "3/3 [==============================] - 0s 10ms/step - loss: 0.0040 - val_loss: 0.0037\n",
            "Epoch 346/400\n",
            "3/3 [==============================] - 0s 10ms/step - loss: 0.0040 - val_loss: 0.0037\n",
            "Epoch 347/400\n",
            "3/3 [==============================] - 0s 10ms/step - loss: 0.0040 - val_loss: 0.0037\n",
            "Epoch 348/400\n",
            "3/3 [==============================] - 0s 10ms/step - loss: 0.0040 - val_loss: 0.0037\n",
            "Epoch 349/400\n",
            "3/3 [==============================] - 0s 10ms/step - loss: 0.0040 - val_loss: 0.0037\n",
            "Epoch 350/400\n",
            "3/3 [==============================] - 0s 11ms/step - loss: 0.0040 - val_loss: 0.0037\n",
            "Epoch 351/400\n",
            "3/3 [==============================] - 0s 13ms/step - loss: 0.0040 - val_loss: 0.0037\n",
            "Epoch 352/400\n",
            "3/3 [==============================] - 0s 10ms/step - loss: 0.0040 - val_loss: 0.0037\n",
            "Epoch 353/400\n",
            "3/3 [==============================] - 0s 12ms/step - loss: 0.0040 - val_loss: 0.0037\n",
            "Epoch 354/400\n",
            "3/3 [==============================] - 0s 10ms/step - loss: 0.0040 - val_loss: 0.0037\n",
            "Epoch 355/400\n",
            "3/3 [==============================] - 0s 10ms/step - loss: 0.0040 - val_loss: 0.0037\n",
            "Epoch 356/400\n",
            "3/3 [==============================] - 0s 15ms/step - loss: 0.0040 - val_loss: 0.0037\n",
            "Epoch 357/400\n",
            "3/3 [==============================] - 0s 14ms/step - loss: 0.0040 - val_loss: 0.0037\n",
            "Epoch 358/400\n",
            "3/3 [==============================] - 0s 10ms/step - loss: 0.0040 - val_loss: 0.0037\n",
            "Epoch 359/400\n",
            "3/3 [==============================] - 0s 11ms/step - loss: 0.0040 - val_loss: 0.0037\n",
            "Epoch 360/400\n",
            "3/3 [==============================] - 0s 10ms/step - loss: 0.0040 - val_loss: 0.0037\n",
            "Epoch 361/400\n",
            "3/3 [==============================] - 0s 13ms/step - loss: 0.0040 - val_loss: 0.0037\n",
            "Epoch 362/400\n",
            "3/3 [==============================] - 0s 10ms/step - loss: 0.0040 - val_loss: 0.0037\n",
            "Epoch 363/400\n",
            "3/3 [==============================] - 0s 10ms/step - loss: 0.0040 - val_loss: 0.0037\n",
            "Epoch 364/400\n",
            "3/3 [==============================] - 0s 10ms/step - loss: 0.0040 - val_loss: 0.0037\n",
            "Epoch 365/400\n",
            "3/3 [==============================] - 0s 12ms/step - loss: 0.0040 - val_loss: 0.0037\n",
            "Epoch 366/400\n",
            "3/3 [==============================] - 0s 11ms/step - loss: 0.0040 - val_loss: 0.0037\n",
            "Epoch 367/400\n",
            "3/3 [==============================] - 0s 11ms/step - loss: 0.0040 - val_loss: 0.0037\n",
            "Epoch 368/400\n",
            "3/3 [==============================] - 0s 10ms/step - loss: 0.0040 - val_loss: 0.0037\n",
            "Epoch 369/400\n",
            "3/3 [==============================] - 0s 11ms/step - loss: 0.0040 - val_loss: 0.0037\n",
            "Epoch 370/400\n",
            "3/3 [==============================] - 0s 12ms/step - loss: 0.0040 - val_loss: 0.0037\n",
            "Epoch 371/400\n",
            "3/3 [==============================] - 0s 10ms/step - loss: 0.0040 - val_loss: 0.0037\n",
            "Epoch 372/400\n",
            "3/3 [==============================] - 0s 10ms/step - loss: 0.0040 - val_loss: 0.0037\n",
            "Epoch 373/400\n",
            "3/3 [==============================] - 0s 11ms/step - loss: 0.0040 - val_loss: 0.0037\n",
            "Epoch 374/400\n",
            "3/3 [==============================] - 0s 11ms/step - loss: 0.0040 - val_loss: 0.0037\n",
            "Epoch 375/400\n",
            "3/3 [==============================] - 0s 10ms/step - loss: 0.0040 - val_loss: 0.0037\n",
            "Epoch 376/400\n",
            "3/3 [==============================] - 0s 10ms/step - loss: 0.0040 - val_loss: 0.0037\n",
            "Epoch 377/400\n",
            "3/3 [==============================] - 0s 11ms/step - loss: 0.0040 - val_loss: 0.0037\n",
            "Epoch 378/400\n",
            "3/3 [==============================] - 0s 10ms/step - loss: 0.0039 - val_loss: 0.0037\n",
            "Epoch 379/400\n",
            "3/3 [==============================] - 0s 11ms/step - loss: 0.0039 - val_loss: 0.0037\n",
            "Epoch 380/400\n",
            "3/3 [==============================] - 0s 12ms/step - loss: 0.0039 - val_loss: 0.0037\n",
            "Epoch 381/400\n",
            "3/3 [==============================] - 0s 11ms/step - loss: 0.0039 - val_loss: 0.0037\n",
            "Epoch 382/400\n",
            "3/3 [==============================] - 0s 10ms/step - loss: 0.0039 - val_loss: 0.0037\n",
            "Epoch 383/400\n",
            "3/3 [==============================] - 0s 12ms/step - loss: 0.0039 - val_loss: 0.0037\n",
            "Epoch 384/400\n",
            "3/3 [==============================] - 0s 10ms/step - loss: 0.0039 - val_loss: 0.0037\n",
            "Epoch 385/400\n",
            "3/3 [==============================] - 0s 12ms/step - loss: 0.0039 - val_loss: 0.0037\n",
            "Epoch 386/400\n",
            "3/3 [==============================] - 0s 10ms/step - loss: 0.0039 - val_loss: 0.0037\n",
            "Epoch 387/400\n",
            "3/3 [==============================] - 0s 10ms/step - loss: 0.0039 - val_loss: 0.0037\n",
            "Epoch 388/400\n",
            "3/3 [==============================] - 0s 10ms/step - loss: 0.0039 - val_loss: 0.0037\n",
            "Epoch 389/400\n",
            "3/3 [==============================] - 0s 13ms/step - loss: 0.0039 - val_loss: 0.0037\n",
            "Epoch 390/400\n",
            "3/3 [==============================] - 0s 11ms/step - loss: 0.0039 - val_loss: 0.0037\n",
            "Epoch 391/400\n",
            "3/3 [==============================] - 0s 10ms/step - loss: 0.0039 - val_loss: 0.0036\n",
            "Epoch 392/400\n",
            "3/3 [==============================] - 0s 10ms/step - loss: 0.0039 - val_loss: 0.0036\n",
            "Epoch 393/400\n",
            "3/3 [==============================] - 0s 11ms/step - loss: 0.0039 - val_loss: 0.0036\n",
            "Epoch 394/400\n",
            "3/3 [==============================] - 0s 10ms/step - loss: 0.0039 - val_loss: 0.0036\n",
            "Epoch 395/400\n",
            "3/3 [==============================] - 0s 10ms/step - loss: 0.0039 - val_loss: 0.0036\n",
            "Epoch 396/400\n",
            "3/3 [==============================] - 0s 10ms/step - loss: 0.0039 - val_loss: 0.0036\n",
            "Epoch 397/400\n",
            "3/3 [==============================] - 0s 10ms/step - loss: 0.0039 - val_loss: 0.0036\n",
            "Epoch 398/400\n",
            "3/3 [==============================] - 0s 11ms/step - loss: 0.0039 - val_loss: 0.0036\n",
            "Epoch 399/400\n",
            "3/3 [==============================] - 0s 11ms/step - loss: 0.0039 - val_loss: 0.0036\n",
            "Epoch 400/400\n",
            "3/3 [==============================] - 0s 10ms/step - loss: 0.0039 - val_loss: 0.0036\n"
          ],
          "name": "stdout"
        },
        {
          "output_type": "execute_result",
          "data": {
            "text/plain": [
              "<tensorflow.python.keras.callbacks.History at 0x7fc9e0130400>"
            ]
          },
          "metadata": {
            "tags": []
          },
          "execution_count": 55
        }
      ]
    },
    {
      "cell_type": "code",
      "metadata": {
        "id": "065F9J5KCwbC",
        "colab_type": "code",
        "colab": {}
      },
      "source": [
        "losses = pd.DataFrame(model.history.history)"
      ],
      "execution_count": 58,
      "outputs": []
    },
    {
      "cell_type": "code",
      "metadata": {
        "id": "Cw5QFuSTDtBX",
        "colab_type": "code",
        "colab": {
          "base_uri": "https://localhost:8080/",
          "height": 282
        },
        "outputId": "2ac2e4b8-151f-487a-c2df-ff7f0190488d"
      },
      "source": [
        "losses.plot()"
      ],
      "execution_count": 60,
      "outputs": [
        {
          "output_type": "execute_result",
          "data": {
            "text/plain": [
              "<matplotlib.axes._subplots.AxesSubplot at 0x7fc9ce322eb8>"
            ]
          },
          "metadata": {
            "tags": []
          },
          "execution_count": 60
        },
        {
          "output_type": "display_data",
          "data": {
            "image/png": "[encoded data removed]",
            "text/plain": [
              "<Figure size 432x288 with 1 Axes>"
            ]
          },
          "metadata": {
            "tags": [],
            "needs_background": "light"
          }
        }
      ]
    },
    {
      "cell_type": "code",
      "metadata": {
        "id": "5R1fd3c5D715",
        "colab_type": "code",
        "colab": {}
      },
      "source": [
        "from sklearn.metrics import mean_squared_error, mean_absolute_error, explained_variance_score"
      ],
      "execution_count": 61,
      "outputs": []
    },
    {
      "cell_type": "code",
      "metadata": {
        "id": "ao7V6L5REZSy",
        "colab_type": "code",
        "colab": {}
      },
      "source": [
        "predictions = model.predict(X_test)"
      ],
      "execution_count": 62,
      "outputs": []
    },
    {
      "cell_type": "code",
      "metadata": {
        "id": "_93HkQA0EdpY",
        "colab_type": "code",
        "colab": {
          "base_uri": "https://localhost:8080/",
          "height": 34
        },
        "outputId": "37038ad6-9a20-4530-bdd8-5258865af0d1"
      },
      "source": [
        "np.sqrt(mean_squared_error(y_test, predictions))"
      ],
      "execution_count": 65,
      "outputs": [
        {
          "output_type": "execute_result",
          "data": {
            "text/plain": [
              "0.060300862798147545"
            ]
          },
          "metadata": {
            "tags": []
          },
          "execution_count": 65
        }
      ]
    },
    {
      "cell_type": "code",
      "metadata": {
        "id": "CgGF7jRPEfJo",
        "colab_type": "code",
        "colab": {
          "base_uri": "https://localhost:8080/",
          "height": 34
        },
        "outputId": "c7f9ad96-1bac-4b9f-e9f9-be9ab6f9dd43"
      },
      "source": [
        "mean_absolute_error(y_test, predictions)"
      ],
      "execution_count": 66,
      "outputs": [
        {
          "output_type": "execute_result",
          "data": {
            "text/plain": [
              "0.04454994380474091"
            ]
          },
          "metadata": {
            "tags": []
          },
          "execution_count": 66
        }
      ]
    },
    {
      "cell_type": "code",
      "metadata": {
        "id": "6hU8uheUE0zM",
        "colab_type": "code",
        "colab": {
          "base_uri": "https://localhost:8080/",
          "height": 170
        },
        "outputId": "256fe5e4-33b9-486c-f5b0-6ec0de10b15b"
      },
      "source": [
        "df['Chance of Admit '].describe()"
      ],
      "execution_count": 67,
      "outputs": [
        {
          "output_type": "execute_result",
          "data": {
            "text/plain": [
              "count    500.00000\n",
              "mean       0.72174\n",
              "std        0.14114\n",
              "min        0.34000\n",
              "25%        0.63000\n",
              "50%        0.72000\n",
              "75%        0.82000\n",
              "max        0.97000\n",
              "Name: Chance of Admit , dtype: float64"
            ]
          },
          "metadata": {
            "tags": []
          },
          "execution_count": 67
        }
      ]
    },
    {
      "cell_type": "code",
      "metadata": {
        "id": "kpkY78gUE7Co",
        "colab_type": "code",
        "colab": {
          "base_uri": "https://localhost:8080/",
          "height": 34
        },
        "outputId": "d8f1fd74-c82d-46d6-a0d0-7e8658311f31"
      },
      "source": [
        "explained_variance_score(y_test, predictions)"
      ],
      "execution_count": 68,
      "outputs": [
        {
          "output_type": "execute_result",
          "data": {
            "text/plain": [
              "0.8039217580961392"
            ]
          },
          "metadata": {
            "tags": []
          },
          "execution_count": 68
        }
      ]
    },
    {
      "cell_type": "code",
      "metadata": {
        "id": "YBjA95RXFM6I",
        "colab_type": "code",
        "colab": {
          "base_uri": "https://localhost:8080/",
          "height": 283
        },
        "outputId": "6f85ea9a-41e7-49ae-853b-036182f693de"
      },
      "source": [
        "plt.scatter(y_test, predictions)\n",
        "plt.plot(y_test, y_test, 'r')"
      ],
      "execution_count": 70,
      "outputs": [
        {
          "output_type": "execute_result",
          "data": {
            "text/plain": [
              "[<matplotlib.lines.Line2D at 0x7fc9ce4d8c18>]"
            ]
          },
          "metadata": {
            "tags": []
          },
          "execution_count": 70
        },
        {
          "output_type": "display_data",
          "data": {
            "image/png": "[encoded data removed]",
            "text/plain": [
              "<Figure size 432x288 with 1 Axes>"
            ]
          },
          "metadata": {
            "tags": [],
            "needs_background": "light"
          }
        }
      ]
    },
    {
      "cell_type": "code",
      "metadata": {
        "id": "HMrf9URbFdNq",
        "colab_type": "code",
        "colab": {
          "base_uri": "https://localhost:8080/",
          "height": 419
        },
        "outputId": "4e15b41a-f2a1-41bf-a3a7-eceb99a83eff"
      },
      "source": [
        "df"
      ],
      "execution_count": 71,
      "outputs": [
        {
          "output_type": "execute_result",
          "data": {
            "text/html": [
              "<div>\n",
              "<style scoped>\n",
              "    .dataframe tbody tr th:only-of-type {\n",
              "        vertical-align: middle;\n",
              "    }\n",
              "\n",
              "    .dataframe tbody tr th {\n",
              "        vertical-align: top;\n",
              "    }\n",
              "\n",
              "    .dataframe thead th {\n",
              "        text-align: right;\n",
              "    }\n",
              "</style>\n",
              "<table border=\"1\" class=\"dataframe\">\n",
              "  <thead>\n",
              "    <tr style=\"text-align: right;\">\n",
              "      <th></th>\n",
              "      <th>GRE Score</th>\n",
              "      <th>TOEFL Score</th>\n",
              "      <th>University Rating</th>\n",
              "      <th>SOP</th>\n",
              "      <th>LOR</th>\n",
              "      <th>CGPA</th>\n",
              "      <th>Research</th>\n",
              "      <th>Chance of Admit</th>\n",
              "    </tr>\n",
              "  </thead>\n",
              "  <tbody>\n",
              "    <tr>\n",
              "      <th>0</th>\n",
              "      <td>337</td>\n",
              "      <td>118</td>\n",
              "      <td>4</td>\n",
              "      <td>4.5</td>\n",
              "      <td>4.5</td>\n",
              "      <td>9.65</td>\n",
              "      <td>1</td>\n",
              "      <td>0.92</td>\n",
              "    </tr>\n",
              "    <tr>\n",
              "      <th>1</th>\n",
              "      <td>324</td>\n",
              "      <td>107</td>\n",
              "      <td>4</td>\n",
              "      <td>4.0</td>\n",
              "      <td>4.5</td>\n",
              "      <td>8.87</td>\n",
              "      <td>1</td>\n",
              "      <td>0.76</td>\n",
              "    </tr>\n",
              "    <tr>\n",
              "      <th>2</th>\n",
              "      <td>316</td>\n",
              "      <td>104</td>\n",
              "      <td>3</td>\n",
              "      <td>3.0</td>\n",
              "      <td>3.5</td>\n",
              "      <td>8.00</td>\n",
              "      <td>1</td>\n",
              "      <td>0.72</td>\n",
              "    </tr>\n",
              "    <tr>\n",
              "      <th>3</th>\n",
              "      <td>322</td>\n",
              "      <td>110</td>\n",
              "      <td>3</td>\n",
              "      <td>3.5</td>\n",
              "      <td>2.5</td>\n",
              "      <td>8.67</td>\n",
              "      <td>1</td>\n",
              "      <td>0.80</td>\n",
              "    </tr>\n",
              "    <tr>\n",
              "      <th>4</th>\n",
              "      <td>314</td>\n",
              "      <td>103</td>\n",
              "      <td>2</td>\n",
              "      <td>2.0</td>\n",
              "      <td>3.0</td>\n",
              "      <td>8.21</td>\n",
              "      <td>0</td>\n",
              "      <td>0.65</td>\n",
              "    </tr>\n",
              "    <tr>\n",
              "      <th>...</th>\n",
              "      <td>...</td>\n",
              "      <td>...</td>\n",
              "      <td>...</td>\n",
              "      <td>...</td>\n",
              "      <td>...</td>\n",
              "      <td>...</td>\n",
              "      <td>...</td>\n",
              "      <td>...</td>\n",
              "    </tr>\n",
              "    <tr>\n",
              "      <th>495</th>\n",
              "      <td>332</td>\n",
              "      <td>108</td>\n",
              "      <td>5</td>\n",
              "      <td>4.5</td>\n",
              "      <td>4.0</td>\n",
              "      <td>9.02</td>\n",
              "      <td>1</td>\n",
              "      <td>0.87</td>\n",
              "    </tr>\n",
              "    <tr>\n",
              "      <th>496</th>\n",
              "      <td>337</td>\n",
              "      <td>117</td>\n",
              "      <td>5</td>\n",
              "      <td>5.0</td>\n",
              "      <td>5.0</td>\n",
              "      <td>9.87</td>\n",
              "      <td>1</td>\n",
              "      <td>0.96</td>\n",
              "    </tr>\n",
              "    <tr>\n",
              "      <th>497</th>\n",
              "      <td>330</td>\n",
              "      <td>120</td>\n",
              "      <td>5</td>\n",
              "      <td>4.5</td>\n",
              "      <td>5.0</td>\n",
              "      <td>9.56</td>\n",
              "      <td>1</td>\n",
              "      <td>0.93</td>\n",
              "    </tr>\n",
              "    <tr>\n",
              "      <th>498</th>\n",
              "      <td>312</td>\n",
              "      <td>103</td>\n",
              "      <td>4</td>\n",
              "      <td>4.0</td>\n",
              "      <td>5.0</td>\n",
              "      <td>8.43</td>\n",
              "      <td>0</td>\n",
              "      <td>0.73</td>\n",
              "    </tr>\n",
              "    <tr>\n",
              "      <th>499</th>\n",
              "      <td>327</td>\n",
              "      <td>113</td>\n",
              "      <td>4</td>\n",
              "      <td>4.5</td>\n",
              "      <td>4.5</td>\n",
              "      <td>9.04</td>\n",
              "      <td>0</td>\n",
              "      <td>0.84</td>\n",
              "    </tr>\n",
              "  </tbody>\n",
              "</table>\n",
              "<p>500 rows × 8 columns</p>\n",
              "</div>"
            ],
            "text/plain": [
              "     GRE Score  TOEFL Score  ...  Research  Chance of Admit \n",
              "0          337          118  ...         1              0.92\n",
              "1          324          107  ...         1              0.76\n",
              "2          316          104  ...         1              0.72\n",
              "3          322          110  ...         1              0.80\n",
              "4          314          103  ...         0              0.65\n",
              "..         ...          ...  ...       ...               ...\n",
              "495        332          108  ...         1              0.87\n",
              "496        337          117  ...         1              0.96\n",
              "497        330          120  ...         1              0.93\n",
              "498        312          103  ...         0              0.73\n",
              "499        327          113  ...         0              0.84\n",
              "\n",
              "[500 rows x 8 columns]"
            ]
          },
          "metadata": {
            "tags": []
          },
          "execution_count": 71
        }
      ]
    },
    {
      "cell_type": "code",
      "metadata": {
        "id": "5_hueCYsF29i",
        "colab_type": "code",
        "colab": {}
      },
      "source": [
        "single_score = df.drop('Chance of Admit ', axis=1).iloc[0] #to know if we are overshooting or undershooting"
      ],
      "execution_count": 72,
      "outputs": []
    },
    {
      "cell_type": "code",
      "metadata": {
        "id": "OS44lR3bGZIf",
        "colab_type": "code",
        "colab": {}
      },
      "source": [
        "single_score = scaler.transform(single_score.values.reshape(-1,7))"
      ],
      "execution_count": 75,
      "outputs": []
    },
    {
      "cell_type": "code",
      "metadata": {
        "id": "yfyOeupZGj6i",
        "colab_type": "code",
        "colab": {
          "base_uri": "https://localhost:8080/",
          "height": 34
        },
        "outputId": "4113f54a-507d-475d-ec5b-29cb4726dfb6"
      },
      "source": [
        "model.predict(single_score)"
      ],
      "execution_count": 76,
      "outputs": [
        {
          "output_type": "execute_result",
          "data": {
            "text/plain": [
              "array([[0.9456502]], dtype=float32)"
            ]
          },
          "metadata": {
            "tags": []
          },
          "execution_count": 76
        }
      ]
    },
    {
      "cell_type": "code",
      "metadata": {
        "id": "vcSSBTxtGoHq",
        "colab_type": "code",
        "colab": {
          "base_uri": "https://localhost:8080/",
          "height": 80
        },
        "outputId": "85c0dea2-753a-42ee-8528-d18da481f690"
      },
      "source": [
        "df.head(1) # as you can know the actual is 92% and my model predicted 94% which is pretty close."
      ],
      "execution_count": 77,
      "outputs": [
        {
          "output_type": "execute_result",
          "data": {
            "text/html": [
              "<div>\n",
              "<style scoped>\n",
              "    .dataframe tbody tr th:only-of-type {\n",
              "        vertical-align: middle;\n",
              "    }\n",
              "\n",
              "    .dataframe tbody tr th {\n",
              "        vertical-align: top;\n",
              "    }\n",
              "\n",
              "    .dataframe thead th {\n",
              "        text-align: right;\n",
              "    }\n",
              "</style>\n",
              "<table border=\"1\" class=\"dataframe\">\n",
              "  <thead>\n",
              "    <tr style=\"text-align: right;\">\n",
              "      <th></th>\n",
              "      <th>GRE Score</th>\n",
              "      <th>TOEFL Score</th>\n",
              "      <th>University Rating</th>\n",
              "      <th>SOP</th>\n",
              "      <th>LOR</th>\n",
              "      <th>CGPA</th>\n",
              "      <th>Research</th>\n",
              "      <th>Chance of Admit</th>\n",
              "    </tr>\n",
              "  </thead>\n",
              "  <tbody>\n",
              "    <tr>\n",
              "      <th>0</th>\n",
              "      <td>337</td>\n",
              "      <td>118</td>\n",
              "      <td>4</td>\n",
              "      <td>4.5</td>\n",
              "      <td>4.5</td>\n",
              "      <td>9.65</td>\n",
              "      <td>1</td>\n",
              "      <td>0.92</td>\n",
              "    </tr>\n",
              "  </tbody>\n",
              "</table>\n",
              "</div>"
            ],
            "text/plain": [
              "   GRE Score  TOEFL Score  University Rating  ...  CGPA  Research  Chance of Admit \n",
              "0        337          118                  4  ...  9.65         1              0.92\n",
              "\n",
              "[1 rows x 8 columns]"
            ]
          },
          "metadata": {
            "tags": []
          },
          "execution_count": 77
        }
      ]
    },
    {
      "cell_type": "code",
      "metadata": {
        "id": "6wzpkMFfGp5D",
        "colab_type": "code",
        "colab": {
          "base_uri": "https://localhost:8080/",
          "height": 34
        },
        "outputId": "7772da6e-744c-4db9-afe7-44824673a53d"
      },
      "source": [
        "mean_squared_error(y_test, predictions) #the rmse is pretty low too so that's a good sign"
      ],
      "execution_count": 79,
      "outputs": [
        {
          "output_type": "execute_result",
          "data": {
            "text/plain": [
              "0.003636194054201015"
            ]
          },
          "metadata": {
            "tags": []
          },
          "execution_count": 79
        }
      ]
    },
    {
      "cell_type": "code",
      "metadata": {
        "id": "RQYtoxa3H7xm",
        "colab_type": "code",
        "colab": {}
      },
      "source": [
        ""
      ],
      "execution_count": null,
      "outputs": []
    }
  ]
}